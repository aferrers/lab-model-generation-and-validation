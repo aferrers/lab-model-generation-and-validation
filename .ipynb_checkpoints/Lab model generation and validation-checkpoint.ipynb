{
 "cells": [
  {
   "cell_type": "markdown",
   "id": "ba26e417-25d0-45da-9a15-e8e4ef70b753",
   "metadata": {
    "tags": []
   },
   "source": [
    "## LAB Model Generation and Validation"
   ]
  },
  {
   "cell_type": "markdown",
   "id": "9d9315c5-edaa-47a1-b782-40ac4848d672",
   "metadata": {
    "tags": []
   },
   "source": [
    "### Data import & data types"
   ]
  },
  {
   "cell_type": "code",
   "execution_count": 278,
   "id": "f8777406-b2d4-4fb0-b80a-28b53fa4b2c0",
   "metadata": {
    "tags": []
   },
   "outputs": [],
   "source": [
    "import pandas as pd\n",
    "import numpy as np\n",
    "import matplotlib.pyplot as plt\n",
    "import seaborn as sns\n",
    "%matplotlib inline"
   ]
  },
  {
   "cell_type": "code",
   "execution_count": 279,
   "id": "bfe60e93-90a8-4489-abe3-e36a2680e883",
   "metadata": {
    "tags": []
   },
   "outputs": [],
   "source": [
    "# (1) get the data\n",
    "data=pd.read_csv('clean_marketing_customer_analysis.csv')"
   ]
  },
  {
   "cell_type": "markdown",
   "id": "fa97f4da-e1e8-4a30-96a8-793928d81f7b",
   "metadata": {
    "tags": []
   },
   "source": [
    "#### Data checks"
   ]
  },
  {
   "cell_type": "code",
   "execution_count": 280,
   "id": "ed0dc3d4-f907-4572-b5dc-87611a81f63f",
   "metadata": {
    "tags": []
   },
   "outputs": [],
   "source": [
    "data_customer_index=data.copy()"
   ]
  },
  {
   "cell_type": "code",
   "execution_count": 281,
   "id": "a41d3d21-0909-4ac8-b28b-66d525186a82",
   "metadata": {},
   "outputs": [
    {
     "name": "stdout",
     "output_type": "stream",
     "text": [
      "[   0    1    2 ... 9131 9132 9133]\n"
     ]
    }
   ],
   "source": [
    "index_list = data.index.tolist()\n",
    "index_array = data.index.values\n",
    "#print(index_list)\n",
    "print(index_array)"
   ]
  },
  {
   "cell_type": "code",
   "execution_count": 282,
   "id": "e802d9be-b796-4fba-a95f-d31ef05dfbff",
   "metadata": {
    "tags": []
   },
   "outputs": [
    {
     "name": "stdout",
     "output_type": "stream",
     "text": [
      "RangeIndex(start=0, stop=9134, step=1)\n"
     ]
    }
   ],
   "source": [
    "# set customer id column as index: index check\n",
    "index = data.index\n",
    "print(index)"
   ]
  },
  {
   "cell_type": "code",
   "execution_count": 283,
   "id": "3c45ddb6-dd67-4615-8445-aeb28705dd6b",
   "metadata": {
    "tags": []
   },
   "outputs": [
    {
     "name": "stdout",
     "output_type": "stream",
     "text": [
      "0\n"
     ]
    }
   ],
   "source": [
    "# set customer id column as index: duplicates check\n",
    "duplicates_count = data.duplicated(subset='customer').sum()\n",
    "print(duplicates_count)"
   ]
  },
  {
   "cell_type": "code",
   "execution_count": 284,
   "id": "91281fad-01dc-42e5-a528-15efc5e4839e",
   "metadata": {
    "tags": []
   },
   "outputs": [
    {
     "data": {
      "text/html": [
       "<div>\n",
       "<style scoped>\n",
       "    .dataframe tbody tr th:only-of-type {\n",
       "        vertical-align: middle;\n",
       "    }\n",
       "\n",
       "    .dataframe tbody tr th {\n",
       "        vertical-align: top;\n",
       "    }\n",
       "\n",
       "    .dataframe thead th {\n",
       "        text-align: right;\n",
       "    }\n",
       "</style>\n",
       "<table border=\"1\" class=\"dataframe\">\n",
       "  <thead>\n",
       "    <tr style=\"text-align: right;\">\n",
       "      <th></th>\n",
       "      <th>state</th>\n",
       "      <th>customer_lifetime_value</th>\n",
       "      <th>response</th>\n",
       "      <th>coverage</th>\n",
       "      <th>education</th>\n",
       "      <th>effective_to_date</th>\n",
       "      <th>employmentstatus</th>\n",
       "      <th>gender</th>\n",
       "      <th>income</th>\n",
       "      <th>location_code</th>\n",
       "      <th>...</th>\n",
       "      <th>number_of_open_complaints</th>\n",
       "      <th>number_of_policies</th>\n",
       "      <th>policy_type</th>\n",
       "      <th>policy</th>\n",
       "      <th>renew_offer_type</th>\n",
       "      <th>sales_channel</th>\n",
       "      <th>total_claim_amount</th>\n",
       "      <th>vehicle_class</th>\n",
       "      <th>vehicle_size</th>\n",
       "      <th>month</th>\n",
       "    </tr>\n",
       "    <tr>\n",
       "      <th>customer</th>\n",
       "      <th></th>\n",
       "      <th></th>\n",
       "      <th></th>\n",
       "      <th></th>\n",
       "      <th></th>\n",
       "      <th></th>\n",
       "      <th></th>\n",
       "      <th></th>\n",
       "      <th></th>\n",
       "      <th></th>\n",
       "      <th></th>\n",
       "      <th></th>\n",
       "      <th></th>\n",
       "      <th></th>\n",
       "      <th></th>\n",
       "      <th></th>\n",
       "      <th></th>\n",
       "      <th></th>\n",
       "      <th></th>\n",
       "      <th></th>\n",
       "      <th></th>\n",
       "    </tr>\n",
       "  </thead>\n",
       "  <tbody>\n",
       "    <tr>\n",
       "      <th>BU79786</th>\n",
       "      <td>Washington</td>\n",
       "      <td>2763.519279</td>\n",
       "      <td>No</td>\n",
       "      <td>Basic</td>\n",
       "      <td>Bachelor</td>\n",
       "      <td>2/24/11</td>\n",
       "      <td>Employed</td>\n",
       "      <td>F</td>\n",
       "      <td>56274</td>\n",
       "      <td>Suburban</td>\n",
       "      <td>...</td>\n",
       "      <td>0</td>\n",
       "      <td>1</td>\n",
       "      <td>Corporate Auto</td>\n",
       "      <td>Corporate L3</td>\n",
       "      <td>Offer1</td>\n",
       "      <td>Agent</td>\n",
       "      <td>384.811147</td>\n",
       "      <td>Two-Door Car</td>\n",
       "      <td>Medsize</td>\n",
       "      <td>2</td>\n",
       "    </tr>\n",
       "    <tr>\n",
       "      <th>QZ44356</th>\n",
       "      <td>Arizona</td>\n",
       "      <td>6979.535903</td>\n",
       "      <td>No</td>\n",
       "      <td>Extended</td>\n",
       "      <td>Bachelor</td>\n",
       "      <td>1/31/11</td>\n",
       "      <td>Unemployed</td>\n",
       "      <td>F</td>\n",
       "      <td>0</td>\n",
       "      <td>Suburban</td>\n",
       "      <td>...</td>\n",
       "      <td>0</td>\n",
       "      <td>8</td>\n",
       "      <td>Personal Auto</td>\n",
       "      <td>Personal L3</td>\n",
       "      <td>Offer3</td>\n",
       "      <td>Agent</td>\n",
       "      <td>1131.464935</td>\n",
       "      <td>Four-Door Car</td>\n",
       "      <td>Medsize</td>\n",
       "      <td>1</td>\n",
       "    </tr>\n",
       "    <tr>\n",
       "      <th>AI49188</th>\n",
       "      <td>Nevada</td>\n",
       "      <td>12887.431650</td>\n",
       "      <td>No</td>\n",
       "      <td>Premium</td>\n",
       "      <td>Bachelor</td>\n",
       "      <td>2/19/11</td>\n",
       "      <td>Employed</td>\n",
       "      <td>F</td>\n",
       "      <td>48767</td>\n",
       "      <td>Suburban</td>\n",
       "      <td>...</td>\n",
       "      <td>0</td>\n",
       "      <td>2</td>\n",
       "      <td>Personal Auto</td>\n",
       "      <td>Personal L3</td>\n",
       "      <td>Offer1</td>\n",
       "      <td>Agent</td>\n",
       "      <td>566.472247</td>\n",
       "      <td>Two-Door Car</td>\n",
       "      <td>Medsize</td>\n",
       "      <td>2</td>\n",
       "    </tr>\n",
       "    <tr>\n",
       "      <th>WW63253</th>\n",
       "      <td>California</td>\n",
       "      <td>7645.861827</td>\n",
       "      <td>No</td>\n",
       "      <td>Basic</td>\n",
       "      <td>Bachelor</td>\n",
       "      <td>1/20/11</td>\n",
       "      <td>Unemployed</td>\n",
       "      <td>M</td>\n",
       "      <td>0</td>\n",
       "      <td>Suburban</td>\n",
       "      <td>...</td>\n",
       "      <td>0</td>\n",
       "      <td>7</td>\n",
       "      <td>Corporate Auto</td>\n",
       "      <td>Corporate L2</td>\n",
       "      <td>Offer1</td>\n",
       "      <td>Call Center</td>\n",
       "      <td>529.881344</td>\n",
       "      <td>SUV</td>\n",
       "      <td>Medsize</td>\n",
       "      <td>1</td>\n",
       "    </tr>\n",
       "    <tr>\n",
       "      <th>HB64268</th>\n",
       "      <td>Washington</td>\n",
       "      <td>2813.692575</td>\n",
       "      <td>No</td>\n",
       "      <td>Basic</td>\n",
       "      <td>Bachelor</td>\n",
       "      <td>2/3/11</td>\n",
       "      <td>Employed</td>\n",
       "      <td>M</td>\n",
       "      <td>43836</td>\n",
       "      <td>Rural</td>\n",
       "      <td>...</td>\n",
       "      <td>0</td>\n",
       "      <td>1</td>\n",
       "      <td>Personal Auto</td>\n",
       "      <td>Personal L1</td>\n",
       "      <td>Offer1</td>\n",
       "      <td>Agent</td>\n",
       "      <td>138.130879</td>\n",
       "      <td>Four-Door Car</td>\n",
       "      <td>Medsize</td>\n",
       "      <td>2</td>\n",
       "    </tr>\n",
       "    <tr>\n",
       "      <th>...</th>\n",
       "      <td>...</td>\n",
       "      <td>...</td>\n",
       "      <td>...</td>\n",
       "      <td>...</td>\n",
       "      <td>...</td>\n",
       "      <td>...</td>\n",
       "      <td>...</td>\n",
       "      <td>...</td>\n",
       "      <td>...</td>\n",
       "      <td>...</td>\n",
       "      <td>...</td>\n",
       "      <td>...</td>\n",
       "      <td>...</td>\n",
       "      <td>...</td>\n",
       "      <td>...</td>\n",
       "      <td>...</td>\n",
       "      <td>...</td>\n",
       "      <td>...</td>\n",
       "      <td>...</td>\n",
       "      <td>...</td>\n",
       "      <td>...</td>\n",
       "    </tr>\n",
       "    <tr>\n",
       "      <th>LA72316</th>\n",
       "      <td>California</td>\n",
       "      <td>23405.987980</td>\n",
       "      <td>No</td>\n",
       "      <td>Basic</td>\n",
       "      <td>Bachelor</td>\n",
       "      <td>2/10/11</td>\n",
       "      <td>Employed</td>\n",
       "      <td>M</td>\n",
       "      <td>71941</td>\n",
       "      <td>Urban</td>\n",
       "      <td>...</td>\n",
       "      <td>0</td>\n",
       "      <td>2</td>\n",
       "      <td>Personal Auto</td>\n",
       "      <td>Personal L1</td>\n",
       "      <td>Offer2</td>\n",
       "      <td>Web</td>\n",
       "      <td>198.234764</td>\n",
       "      <td>Four-Door Car</td>\n",
       "      <td>Medsize</td>\n",
       "      <td>2</td>\n",
       "    </tr>\n",
       "    <tr>\n",
       "      <th>PK87824</th>\n",
       "      <td>California</td>\n",
       "      <td>3096.511217</td>\n",
       "      <td>Yes</td>\n",
       "      <td>Extended</td>\n",
       "      <td>College</td>\n",
       "      <td>2/12/11</td>\n",
       "      <td>Employed</td>\n",
       "      <td>F</td>\n",
       "      <td>21604</td>\n",
       "      <td>Suburban</td>\n",
       "      <td>...</td>\n",
       "      <td>0</td>\n",
       "      <td>1</td>\n",
       "      <td>Corporate Auto</td>\n",
       "      <td>Corporate L3</td>\n",
       "      <td>Offer1</td>\n",
       "      <td>Branch</td>\n",
       "      <td>379.200000</td>\n",
       "      <td>Four-Door Car</td>\n",
       "      <td>Medsize</td>\n",
       "      <td>2</td>\n",
       "    </tr>\n",
       "    <tr>\n",
       "      <th>TD14365</th>\n",
       "      <td>California</td>\n",
       "      <td>8163.890428</td>\n",
       "      <td>No</td>\n",
       "      <td>Extended</td>\n",
       "      <td>Bachelor</td>\n",
       "      <td>2/6/11</td>\n",
       "      <td>Unemployed</td>\n",
       "      <td>M</td>\n",
       "      <td>0</td>\n",
       "      <td>Suburban</td>\n",
       "      <td>...</td>\n",
       "      <td>3</td>\n",
       "      <td>2</td>\n",
       "      <td>Corporate Auto</td>\n",
       "      <td>Corporate L2</td>\n",
       "      <td>Offer1</td>\n",
       "      <td>Branch</td>\n",
       "      <td>790.784983</td>\n",
       "      <td>Four-Door Car</td>\n",
       "      <td>Medsize</td>\n",
       "      <td>2</td>\n",
       "    </tr>\n",
       "    <tr>\n",
       "      <th>UP19263</th>\n",
       "      <td>California</td>\n",
       "      <td>7524.442436</td>\n",
       "      <td>No</td>\n",
       "      <td>Extended</td>\n",
       "      <td>College</td>\n",
       "      <td>2/3/11</td>\n",
       "      <td>Employed</td>\n",
       "      <td>M</td>\n",
       "      <td>21941</td>\n",
       "      <td>Suburban</td>\n",
       "      <td>...</td>\n",
       "      <td>0</td>\n",
       "      <td>3</td>\n",
       "      <td>Personal Auto</td>\n",
       "      <td>Personal L2</td>\n",
       "      <td>Offer3</td>\n",
       "      <td>Branch</td>\n",
       "      <td>691.200000</td>\n",
       "      <td>Four-Door Car</td>\n",
       "      <td>Large</td>\n",
       "      <td>2</td>\n",
       "    </tr>\n",
       "    <tr>\n",
       "      <th>Y167826</th>\n",
       "      <td>California</td>\n",
       "      <td>2611.836866</td>\n",
       "      <td>No</td>\n",
       "      <td>Extended</td>\n",
       "      <td>College</td>\n",
       "      <td>2/14/11</td>\n",
       "      <td>Unemployed</td>\n",
       "      <td>M</td>\n",
       "      <td>0</td>\n",
       "      <td>Suburban</td>\n",
       "      <td>...</td>\n",
       "      <td>0</td>\n",
       "      <td>1</td>\n",
       "      <td>Corporate Auto</td>\n",
       "      <td>Corporate L3</td>\n",
       "      <td>Offer4</td>\n",
       "      <td>Call Center</td>\n",
       "      <td>369.600000</td>\n",
       "      <td>Two-Door Car</td>\n",
       "      <td>Medsize</td>\n",
       "      <td>2</td>\n",
       "    </tr>\n",
       "  </tbody>\n",
       "</table>\n",
       "<p>9134 rows × 24 columns</p>\n",
       "</div>"
      ],
      "text/plain": [
       "               state  customer_lifetime_value response  coverage education  \\\n",
       "customer                                                                     \n",
       "BU79786   Washington              2763.519279       No     Basic  Bachelor   \n",
       "QZ44356      Arizona              6979.535903       No  Extended  Bachelor   \n",
       "AI49188       Nevada             12887.431650       No   Premium  Bachelor   \n",
       "WW63253   California              7645.861827       No     Basic  Bachelor   \n",
       "HB64268   Washington              2813.692575       No     Basic  Bachelor   \n",
       "...              ...                      ...      ...       ...       ...   \n",
       "LA72316   California             23405.987980       No     Basic  Bachelor   \n",
       "PK87824   California              3096.511217      Yes  Extended   College   \n",
       "TD14365   California              8163.890428       No  Extended  Bachelor   \n",
       "UP19263   California              7524.442436       No  Extended   College   \n",
       "Y167826   California              2611.836866       No  Extended   College   \n",
       "\n",
       "         effective_to_date employmentstatus gender  income location_code  ...  \\\n",
       "customer                                                                  ...   \n",
       "BU79786            2/24/11         Employed      F   56274      Suburban  ...   \n",
       "QZ44356            1/31/11       Unemployed      F       0      Suburban  ...   \n",
       "AI49188            2/19/11         Employed      F   48767      Suburban  ...   \n",
       "WW63253            1/20/11       Unemployed      M       0      Suburban  ...   \n",
       "HB64268             2/3/11         Employed      M   43836         Rural  ...   \n",
       "...                    ...              ...    ...     ...           ...  ...   \n",
       "LA72316            2/10/11         Employed      M   71941         Urban  ...   \n",
       "PK87824            2/12/11         Employed      F   21604      Suburban  ...   \n",
       "TD14365             2/6/11       Unemployed      M       0      Suburban  ...   \n",
       "UP19263             2/3/11         Employed      M   21941      Suburban  ...   \n",
       "Y167826            2/14/11       Unemployed      M       0      Suburban  ...   \n",
       "\n",
       "         number_of_open_complaints  number_of_policies     policy_type  \\\n",
       "customer                                                                 \n",
       "BU79786                          0                   1  Corporate Auto   \n",
       "QZ44356                          0                   8   Personal Auto   \n",
       "AI49188                          0                   2   Personal Auto   \n",
       "WW63253                          0                   7  Corporate Auto   \n",
       "HB64268                          0                   1   Personal Auto   \n",
       "...                            ...                 ...             ...   \n",
       "LA72316                          0                   2   Personal Auto   \n",
       "PK87824                          0                   1  Corporate Auto   \n",
       "TD14365                          3                   2  Corporate Auto   \n",
       "UP19263                          0                   3   Personal Auto   \n",
       "Y167826                          0                   1  Corporate Auto   \n",
       "\n",
       "                policy  renew_offer_type  sales_channel total_claim_amount  \\\n",
       "customer                                                                     \n",
       "BU79786   Corporate L3            Offer1          Agent         384.811147   \n",
       "QZ44356    Personal L3            Offer3          Agent        1131.464935   \n",
       "AI49188    Personal L3            Offer1          Agent         566.472247   \n",
       "WW63253   Corporate L2            Offer1    Call Center         529.881344   \n",
       "HB64268    Personal L1            Offer1          Agent         138.130879   \n",
       "...                ...               ...            ...                ...   \n",
       "LA72316    Personal L1            Offer2            Web         198.234764   \n",
       "PK87824   Corporate L3            Offer1         Branch         379.200000   \n",
       "TD14365   Corporate L2            Offer1         Branch         790.784983   \n",
       "UP19263    Personal L2            Offer3         Branch         691.200000   \n",
       "Y167826   Corporate L3            Offer4    Call Center         369.600000   \n",
       "\n",
       "          vehicle_class vehicle_size month  \n",
       "customer                                    \n",
       "BU79786    Two-Door Car      Medsize     2  \n",
       "QZ44356   Four-Door Car      Medsize     1  \n",
       "AI49188    Two-Door Car      Medsize     2  \n",
       "WW63253             SUV      Medsize     1  \n",
       "HB64268   Four-Door Car      Medsize     2  \n",
       "...                 ...          ...   ...  \n",
       "LA72316   Four-Door Car      Medsize     2  \n",
       "PK87824   Four-Door Car      Medsize     2  \n",
       "TD14365   Four-Door Car      Medsize     2  \n",
       "UP19263   Four-Door Car        Large     2  \n",
       "Y167826    Two-Door Car      Medsize     2  \n",
       "\n",
       "[9134 rows x 24 columns]"
      ]
     },
     "execution_count": 284,
     "metadata": {},
     "output_type": "execute_result"
    }
   ],
   "source": [
    "# set customer id column as index\n",
    "data_customer_index.set_index(\"customer\", inplace=True)\n",
    "data_customer_index"
   ]
  },
  {
   "cell_type": "code",
   "execution_count": 285,
   "id": "5519c948-12c0-4f83-b86d-42d946979ead",
   "metadata": {
    "tags": []
   },
   "outputs": [],
   "source": [
    "# update 'data'\n",
    "data=data_customer_index"
   ]
  },
  {
   "cell_type": "code",
   "execution_count": 286,
   "id": "f7071fa2-8596-4184-8e51-2c44f3a8ef1d",
   "metadata": {
    "tags": []
   },
   "outputs": [
    {
     "name": "stdout",
     "output_type": "stream",
     "text": [
      "Index(['BU79786', 'QZ44356', 'AI49188', 'WW63253', 'HB64268', 'OC83172',\n",
      "       'XZ87318', 'CF85061', 'DY87989', 'BQ94931',\n",
      "       ...\n",
      "       'CB59349', 'RX91025', 'AC13887', 'TF56202', 'YM19146', 'LA72316',\n",
      "       'PK87824', 'TD14365', 'UP19263', 'Y167826'],\n",
      "      dtype='object', name='customer', length=9134)\n"
     ]
    }
   ],
   "source": [
    "# check\n",
    "index = data_customer_index.index\n",
    "print(index)"
   ]
  },
  {
   "cell_type": "code",
   "execution_count": 287,
   "id": "85ebfbe0-c214-46af-9ab5-9fd88fa04d22",
   "metadata": {
    "tags": []
   },
   "outputs": [],
   "source": [
    "# recast as object: month, monthly_premium_auto, months_since_last_claim, months_since_policy_inception\n",
    "data['month']=data['month'].astype('object')\n",
    "data = data.astype({'months_since_last_claim': 'object', 'months_since_policy_inception': 'object'})"
   ]
  },
  {
   "cell_type": "code",
   "execution_count": 288,
   "id": "ee14b466-635a-4927-a478-496cfd38fc76",
   "metadata": {
    "tags": []
   },
   "outputs": [],
   "source": [
    "#data.info()"
   ]
  },
  {
   "cell_type": "markdown",
   "id": "76b123c5-c304-41e4-8478-5d2de973b0bd",
   "metadata": {
    "tags": []
   },
   "source": [
    "from previous lab, selected columns:\n",
    "The final selected columns are:\n",
    "\n",
    "['customer_lifetime_value','income', 'monthly_premium_auto']\n"
   ]
  },
  {
   "cell_type": "markdown",
   "id": "d82d37f3-db03-41ba-9123-7fb537090afc",
   "metadata": {
    "tags": []
   },
   "source": [
    "#### Select columns"
   ]
  },
  {
   "cell_type": "code",
   "execution_count": 416,
   "id": "c25c9463-4eb6-4b65-a94f-f817d31d94e3",
   "metadata": {
    "tags": []
   },
   "outputs": [],
   "source": [
    "# (2) Select the columns that are correlated with total_claim_amount and do not suffer from multicollinearity.\n",
    "selected_columns=['customer_lifetime_value','income', 'monthly_premium_auto']"
   ]
  },
  {
   "cell_type": "code",
   "execution_count": 290,
   "id": "3a35ac87-65e3-44ba-9136-1681ad2383df",
   "metadata": {
    "tags": []
   },
   "outputs": [
    {
     "data": {
      "text/html": [
       "<div>\n",
       "<style scoped>\n",
       "    .dataframe tbody tr th:only-of-type {\n",
       "        vertical-align: middle;\n",
       "    }\n",
       "\n",
       "    .dataframe tbody tr th {\n",
       "        vertical-align: top;\n",
       "    }\n",
       "\n",
       "    .dataframe thead th {\n",
       "        text-align: right;\n",
       "    }\n",
       "</style>\n",
       "<table border=\"1\" class=\"dataframe\">\n",
       "  <thead>\n",
       "    <tr style=\"text-align: right;\">\n",
       "      <th></th>\n",
       "      <th>customer_lifetime_value</th>\n",
       "      <th>income</th>\n",
       "      <th>monthly_premium_auto</th>\n",
       "      <th>total_claim_amount</th>\n",
       "    </tr>\n",
       "    <tr>\n",
       "      <th>customer</th>\n",
       "      <th></th>\n",
       "      <th></th>\n",
       "      <th></th>\n",
       "      <th></th>\n",
       "    </tr>\n",
       "  </thead>\n",
       "  <tbody>\n",
       "    <tr>\n",
       "      <th>BU79786</th>\n",
       "      <td>2763.519279</td>\n",
       "      <td>56274</td>\n",
       "      <td>69</td>\n",
       "      <td>384.811147</td>\n",
       "    </tr>\n",
       "    <tr>\n",
       "      <th>QZ44356</th>\n",
       "      <td>6979.535903</td>\n",
       "      <td>0</td>\n",
       "      <td>94</td>\n",
       "      <td>1131.464935</td>\n",
       "    </tr>\n",
       "    <tr>\n",
       "      <th>AI49188</th>\n",
       "      <td>12887.431650</td>\n",
       "      <td>48767</td>\n",
       "      <td>108</td>\n",
       "      <td>566.472247</td>\n",
       "    </tr>\n",
       "    <tr>\n",
       "      <th>WW63253</th>\n",
       "      <td>7645.861827</td>\n",
       "      <td>0</td>\n",
       "      <td>106</td>\n",
       "      <td>529.881344</td>\n",
       "    </tr>\n",
       "    <tr>\n",
       "      <th>HB64268</th>\n",
       "      <td>2813.692575</td>\n",
       "      <td>43836</td>\n",
       "      <td>73</td>\n",
       "      <td>138.130879</td>\n",
       "    </tr>\n",
       "    <tr>\n",
       "      <th>...</th>\n",
       "      <td>...</td>\n",
       "      <td>...</td>\n",
       "      <td>...</td>\n",
       "      <td>...</td>\n",
       "    </tr>\n",
       "    <tr>\n",
       "      <th>LA72316</th>\n",
       "      <td>23405.987980</td>\n",
       "      <td>71941</td>\n",
       "      <td>73</td>\n",
       "      <td>198.234764</td>\n",
       "    </tr>\n",
       "    <tr>\n",
       "      <th>PK87824</th>\n",
       "      <td>3096.511217</td>\n",
       "      <td>21604</td>\n",
       "      <td>79</td>\n",
       "      <td>379.200000</td>\n",
       "    </tr>\n",
       "    <tr>\n",
       "      <th>TD14365</th>\n",
       "      <td>8163.890428</td>\n",
       "      <td>0</td>\n",
       "      <td>85</td>\n",
       "      <td>790.784983</td>\n",
       "    </tr>\n",
       "    <tr>\n",
       "      <th>UP19263</th>\n",
       "      <td>7524.442436</td>\n",
       "      <td>21941</td>\n",
       "      <td>96</td>\n",
       "      <td>691.200000</td>\n",
       "    </tr>\n",
       "    <tr>\n",
       "      <th>Y167826</th>\n",
       "      <td>2611.836866</td>\n",
       "      <td>0</td>\n",
       "      <td>77</td>\n",
       "      <td>369.600000</td>\n",
       "    </tr>\n",
       "  </tbody>\n",
       "</table>\n",
       "<p>9134 rows × 4 columns</p>\n",
       "</div>"
      ],
      "text/plain": [
       "          customer_lifetime_value  income  monthly_premium_auto  \\\n",
       "customer                                                          \n",
       "BU79786               2763.519279   56274                    69   \n",
       "QZ44356               6979.535903       0                    94   \n",
       "AI49188              12887.431650   48767                   108   \n",
       "WW63253               7645.861827       0                   106   \n",
       "HB64268               2813.692575   43836                    73   \n",
       "...                           ...     ...                   ...   \n",
       "LA72316              23405.987980   71941                    73   \n",
       "PK87824               3096.511217   21604                    79   \n",
       "TD14365               8163.890428       0                    85   \n",
       "UP19263               7524.442436   21941                    96   \n",
       "Y167826               2611.836866       0                    77   \n",
       "\n",
       "          total_claim_amount  \n",
       "customer                      \n",
       "BU79786           384.811147  \n",
       "QZ44356          1131.464935  \n",
       "AI49188           566.472247  \n",
       "WW63253           529.881344  \n",
       "HB64268           138.130879  \n",
       "...                      ...  \n",
       "LA72316           198.234764  \n",
       "PK87824           379.200000  \n",
       "TD14365           790.784983  \n",
       "UP19263           691.200000  \n",
       "Y167826           369.600000  \n",
       "\n",
       "[9134 rows x 4 columns]"
      ]
     },
     "execution_count": 290,
     "metadata": {},
     "output_type": "execute_result"
    }
   ],
   "source": [
    "#create dataframe with selected columns\n",
    "selected_columns_df=data[['customer_lifetime_value','income', 'monthly_premium_auto','total_claim_amount']]\n",
    "selected_columns_df"
   ]
  },
  {
   "cell_type": "markdown",
   "id": "c862c73e-3e76-4885-8299-1f83eda08b40",
   "metadata": {
    "jp-MarkdownHeadingCollapsed": true,
    "tags": []
   },
   "source": [
    "#### charts"
   ]
  },
  {
   "cell_type": "code",
   "execution_count": 291,
   "id": "2e78bfaa-7f23-44e4-ada7-7b129c32b1e8",
   "metadata": {
    "tags": []
   },
   "outputs": [
    {
     "data": {
      "image/png": "[encoded data removed]",
      "text/plain": [
       "<Figure size 640x480 with 1 Axes>"
      ]
     },
     "metadata": {},
     "output_type": "display_data"
    }
   ],
   "source": [
    "sns.boxplot(x=selected_columns_df['income'])\n",
    "plt.show()"
   ]
  },
  {
   "cell_type": "code",
   "execution_count": 292,
   "id": "37d34560-a2d3-4a5f-951b-fac4f51e08a4",
   "metadata": {
    "tags": []
   },
   "outputs": [
    {
     "data": {
      "image/png": "[encoded data removed]",
      "text/plain": [
       "<Figure size 640x480 with 1 Axes>"
      ]
     },
     "metadata": {},
     "output_type": "display_data"
    }
   ],
   "source": [
    "sns.histplot(x=selected_columns_df['income'])\n",
    "plt.show()"
   ]
  },
  {
   "cell_type": "code",
   "execution_count": 293,
   "id": "aa5a282f-8b25-4ded-b7ad-b92fb34d3461",
   "metadata": {
    "tags": []
   },
   "outputs": [
    {
     "data": {
      "image/png": "[encoded data removed]",
      "text/plain": [
       "<Figure size 640x480 with 1 Axes>"
      ]
     },
     "metadata": {},
     "output_type": "display_data"
    }
   ],
   "source": [
    "sns.boxplot(x=selected_columns_df['monthly_premium_auto'])\n",
    "plt.show()"
   ]
  },
  {
   "cell_type": "code",
   "execution_count": 294,
   "id": "0a6e2fa8-a0e1-4b1f-870a-b27946143243",
   "metadata": {
    "tags": []
   },
   "outputs": [
    {
     "data": {
      "image/png": "[encoded data removed]",
      "text/plain": [
       "<Figure size 640x480 with 1 Axes>"
      ]
     },
     "metadata": {},
     "output_type": "display_data"
    }
   ],
   "source": [
    "sns.histplot(x=selected_columns_df['monthly_premium_auto'])\n",
    "plt.show()"
   ]
  },
  {
   "cell_type": "code",
   "execution_count": 295,
   "id": "ca0e4115-209d-48ef-8a29-ec87b549902f",
   "metadata": {
    "tags": []
   },
   "outputs": [
    {
     "data": {
      "text/plain": [
       "count    9134.000000\n",
       "mean       93.219291\n",
       "std        34.407967\n",
       "min        61.000000\n",
       "25%        68.000000\n",
       "50%        83.000000\n",
       "75%       109.000000\n",
       "max       298.000000\n",
       "Name: monthly_premium_auto, dtype: float64"
      ]
     },
     "execution_count": 295,
     "metadata": {},
     "output_type": "execute_result"
    }
   ],
   "source": [
    "selected_columns_df['monthly_premium_auto'].describe()"
   ]
  },
  {
   "cell_type": "markdown",
   "id": "135d941c-f0a1-496f-9ad5-96a983108a50",
   "metadata": {
    "tags": []
   },
   "source": [
    "### Outliers"
   ]
  },
  {
   "cell_type": "code",
   "execution_count": 296,
   "id": "fe9b10db-492d-41f1-adf2-3450f8f539fe",
   "metadata": {
    "tags": []
   },
   "outputs": [],
   "source": [
    "# (3) Remove outliers from the selected columns.\n",
    "\n",
    "# create function to remove outliers from the selected columns.\n",
    "\n",
    "def remove_outliers(df_orig: pd.DataFrame, col: str, multiplier: float= 1.5) -> pd.DataFrame:\n",
    "    df = df_orig.copy()\n",
    "    iqr = np.percentile(df[col], 75) - np.percentile(df[col], 25)\n",
    "    upper_whisker = np.percentile(df[col], 75) + multiplier * iqr\n",
    "    lower_whisker = np.percentile(df[col], 25) - multiplier * iqr\n",
    "    data_removed_outliers = df[(df[col] < upper_whisker) & (df[col] > lower_whisker)]\n",
    "    return data_removed_outliers\n"
   ]
  },
  {
   "cell_type": "code",
   "execution_count": 297,
   "id": "9606b9c3-c7aa-4b68-af82-895dd09cebd1",
   "metadata": {
    "tags": []
   },
   "outputs": [
    {
     "name": "stdout",
     "output_type": "stream",
     "text": [
      "(8371, 4)\n"
     ]
    },
    {
     "data": {
      "text/html": [
       "<div>\n",
       "<style scoped>\n",
       "    .dataframe tbody tr th:only-of-type {\n",
       "        vertical-align: middle;\n",
       "    }\n",
       "\n",
       "    .dataframe tbody tr th {\n",
       "        vertical-align: top;\n",
       "    }\n",
       "\n",
       "    .dataframe thead th {\n",
       "        text-align: right;\n",
       "    }\n",
       "</style>\n",
       "<table border=\"1\" class=\"dataframe\">\n",
       "  <thead>\n",
       "    <tr style=\"text-align: right;\">\n",
       "      <th></th>\n",
       "      <th>customer_lifetime_value</th>\n",
       "      <th>income</th>\n",
       "      <th>monthly_premium_auto</th>\n",
       "      <th>total_claim_amount</th>\n",
       "    </tr>\n",
       "  </thead>\n",
       "  <tbody>\n",
       "    <tr>\n",
       "      <th>customer_lifetime_value</th>\n",
       "      <td>1.000000</td>\n",
       "      <td>0.054763</td>\n",
       "      <td>0.334518</td>\n",
       "      <td>0.101659</td>\n",
       "    </tr>\n",
       "    <tr>\n",
       "      <th>income</th>\n",
       "      <td>0.054763</td>\n",
       "      <td>1.000000</td>\n",
       "      <td>0.070531</td>\n",
       "      <td>-0.362189</td>\n",
       "    </tr>\n",
       "    <tr>\n",
       "      <th>monthly_premium_auto</th>\n",
       "      <td>0.334518</td>\n",
       "      <td>0.070531</td>\n",
       "      <td>1.000000</td>\n",
       "      <td>0.362868</td>\n",
       "    </tr>\n",
       "    <tr>\n",
       "      <th>total_claim_amount</th>\n",
       "      <td>0.101659</td>\n",
       "      <td>-0.362189</td>\n",
       "      <td>0.362868</td>\n",
       "      <td>1.000000</td>\n",
       "    </tr>\n",
       "  </tbody>\n",
       "</table>\n",
       "</div>"
      ],
      "text/plain": [
       "                         customer_lifetime_value    income  \\\n",
       "customer_lifetime_value                 1.000000  0.054763   \n",
       "income                                  0.054763  1.000000   \n",
       "monthly_premium_auto                    0.334518  0.070531   \n",
       "total_claim_amount                      0.101659 -0.362189   \n",
       "\n",
       "                         monthly_premium_auto  total_claim_amount  \n",
       "customer_lifetime_value              0.334518            0.101659  \n",
       "income                               0.070531           -0.362189  \n",
       "monthly_premium_auto                 1.000000            0.362868  \n",
       "total_claim_amount                   0.362868            1.000000  "
      ]
     },
     "execution_count": 297,
     "metadata": {},
     "output_type": "execute_result"
    }
   ],
   "source": [
    "#assess whether to remove outliers from dependent or independent variable or both.\n",
    "# just for testing, not used in model.\n",
    "\n",
    "dependent_var_outliers = remove_outliers(selected_columns_df,'total_claim_amount', 1)\n",
    "print(dependent_var_outliers.shape)\n",
    "dependent_var_outliers.corr()"
   ]
  },
  {
   "cell_type": "code",
   "execution_count": 298,
   "id": "0983df85-487b-4f6a-ab42-91c95beff2bc",
   "metadata": {
    "tags": []
   },
   "outputs": [
    {
     "data": {
      "text/plain": [
       "(9134, 24)"
      ]
     },
     "execution_count": 298,
     "metadata": {},
     "output_type": "execute_result"
    }
   ],
   "source": [
    "selected_columns_df_test=data.copy()\n",
    "selected_columns_df_test.shape"
   ]
  },
  {
   "cell_type": "code",
   "execution_count": 299,
   "id": "47e13184-f85d-4130-89df-87837cef7463",
   "metadata": {
    "tags": []
   },
   "outputs": [
    {
     "data": {
      "text/plain": [
       "(9134, 24)"
      ]
     },
     "execution_count": 299,
     "metadata": {},
     "output_type": "execute_result"
    }
   ],
   "source": [
    "# OUTLIERS REMOVAL: income test, no records removed.\n",
    "selected_columns_df_test=data.copy()\n",
    "selected_columns_df_test=remove_outliers(selected_columns_df_test, 'income', 1.5)\n",
    "selected_columns_df_test.shape "
   ]
  },
  {
   "cell_type": "code",
   "execution_count": 300,
   "id": "31379cf6-6323-4314-95d6-04dd3286c356",
   "metadata": {
    "tags": []
   },
   "outputs": [
    {
     "data": {
      "text/plain": [
       "(8704, 24)"
      ]
     },
     "execution_count": 300,
     "metadata": {},
     "output_type": "execute_result"
    }
   ],
   "source": [
    "# OUTLIERS REMOVAL: income test, some records removed.\n",
    "selected_columns_df_test=remove_outliers(selected_columns_df_test, 'monthly_premium_auto', 1.5)\n",
    "selected_columns_df_test.shape\n"
   ]
  },
  {
   "cell_type": "code",
   "execution_count": 301,
   "id": "46c2fd31-05e5-4729-b274-ecd51f1abd4d",
   "metadata": {
    "tags": []
   },
   "outputs": [
    {
     "data": {
      "text/plain": [
       "(7988, 24)"
      ]
     },
     "execution_count": 301,
     "metadata": {},
     "output_type": "execute_result"
    }
   ],
   "source": [
    "# OUTLIERS REMOVAL: income test, no records removed.\n",
    "selected_columns_df_test=remove_outliers(selected_columns_df_test, 'customer_lifetime_value', 1.5)\n",
    "selected_columns_df_test.shape\n"
   ]
  },
  {
   "cell_type": "code",
   "execution_count": 302,
   "id": "a5915119-b5b2-41a9-a1f8-05a4058e2f89",
   "metadata": {
    "tags": []
   },
   "outputs": [],
   "source": [
    "data=selected_columns_df_test.copy()"
   ]
  },
  {
   "cell_type": "markdown",
   "id": "6186f8c7-6b9e-426a-bd58-87534e157b3e",
   "metadata": {
    "jp-MarkdownHeadingCollapsed": true,
    "tags": []
   },
   "source": [
    "#### Charts post outliers-removal"
   ]
  },
  {
   "cell_type": "code",
   "execution_count": 303,
   "id": "42a7e5a2-4f4a-4b41-acc1-5dd6abcd9b75",
   "metadata": {
    "tags": []
   },
   "outputs": [
    {
     "data": {
      "image/png": "[encoded data removed]",
      "text/plain": [
       "<Figure size 640x480 with 1 Axes>"
      ]
     },
     "metadata": {},
     "output_type": "display_data"
    }
   ],
   "source": [
    "sns.boxplot(x=selected_columns_df_test['income'])\n",
    "plt.show()"
   ]
  },
  {
   "cell_type": "code",
   "execution_count": 304,
   "id": "9b4e8fd8-fcc4-449b-bfcb-52cd13f75298",
   "metadata": {
    "tags": []
   },
   "outputs": [
    {
     "data": {
      "image/png": "[encoded data removed]",
      "text/plain": [
       "<Figure size 640x480 with 1 Axes>"
      ]
     },
     "metadata": {},
     "output_type": "display_data"
    }
   ],
   "source": [
    "sns.histplot(x=selected_columns_df_test['income'])\n",
    "plt.show()"
   ]
  },
  {
   "cell_type": "code",
   "execution_count": 305,
   "id": "7851a035-1241-4c20-94af-716a2de2a09a",
   "metadata": {
    "tags": []
   },
   "outputs": [
    {
     "data": {
      "image/png": "[encoded data removed]",
      "text/plain": [
       "<Figure size 640x480 with 1 Axes>"
      ]
     },
     "metadata": {},
     "output_type": "display_data"
    }
   ],
   "source": [
    "sns.boxplot(x=selected_columns_df_test['monthly_premium_auto'])\n",
    "plt.show()"
   ]
  },
  {
   "cell_type": "code",
   "execution_count": 306,
   "id": "d5445a1a-2a0b-4481-8910-1418f556d1c3",
   "metadata": {
    "tags": []
   },
   "outputs": [
    {
     "data": {
      "image/png": "[encoded data removed]",
      "text/plain": [
       "<Figure size 640x480 with 1 Axes>"
      ]
     },
     "metadata": {},
     "output_type": "display_data"
    }
   ],
   "source": [
    "sns.histplot(x=selected_columns_df_test['monthly_premium_auto'])\n",
    "plt.show()"
   ]
  },
  {
   "cell_type": "markdown",
   "id": "f6be40c7-8340-44fa-8a71-2bca171fd2c9",
   "metadata": {
    "tags": []
   },
   "source": [
    "#### correlation post-outliers-removal - comparison"
   ]
  },
  {
   "cell_type": "code",
   "execution_count": 307,
   "id": "d00f8e6f-1f8c-44fc-8df2-cdda9166d172",
   "metadata": {
    "tags": []
   },
   "outputs": [
    {
     "data": {
      "text/plain": [
       "(9134, 4)"
      ]
     },
     "execution_count": 307,
     "metadata": {},
     "output_type": "execute_result"
    }
   ],
   "source": [
    "selected_columns_df.shape"
   ]
  },
  {
   "cell_type": "code",
   "execution_count": 308,
   "id": "8043f88f-2cbd-45c4-b510-c81db835429c",
   "metadata": {
    "tags": []
   },
   "outputs": [
    {
     "data": {
      "text/plain": [
       "(7988, 24)"
      ]
     },
     "execution_count": 308,
     "metadata": {},
     "output_type": "execute_result"
    }
   ],
   "source": [
    "selected_columns_df_test.shape"
   ]
  },
  {
   "cell_type": "markdown",
   "id": "ff67fbe2-d19c-4e04-851a-191f60ef0da8",
   "metadata": {
    "tags": []
   },
   "source": [
    "#### correlation charts"
   ]
  },
  {
   "cell_type": "code",
   "execution_count": 309,
   "id": "581f5e3b-0731-4368-9115-e9de365b48ee",
   "metadata": {
    "tags": []
   },
   "outputs": [
    {
     "data": {
      "image/png": "[encoded data removed]",
      "text/plain": [
       "<Figure size 640x480 with 1 Axes>"
      ]
     },
     "metadata": {},
     "output_type": "display_data"
    }
   ],
   "source": [
    "sns.scatterplot(data=selected_columns_df, x='income',y='total_claim_amount')\n",
    "plt.show()"
   ]
  },
  {
   "cell_type": "code",
   "execution_count": 310,
   "id": "8775aae2-2950-4d33-b46c-ece6322b6429",
   "metadata": {
    "tags": []
   },
   "outputs": [
    {
     "data": {
      "image/png": "[encoded data removed]",
      "text/plain": [
       "<Figure size 640x480 with 1 Axes>"
      ]
     },
     "metadata": {},
     "output_type": "display_data"
    }
   ],
   "source": [
    "sns.scatterplot(data=selected_columns_df_test, x='income',y='total_claim_amount')\n",
    "plt.show()"
   ]
  },
  {
   "cell_type": "markdown",
   "id": "21d4503c-9d31-4fe6-b104-67dad7e1bc61",
   "metadata": {
    "tags": []
   },
   "source": [
    "### X y split\n"
   ]
  },
  {
   "cell_type": "code",
   "execution_count": 311,
   "id": "923d0618-a60b-49d1-b410-715e6a003da6",
   "metadata": {
    "tags": []
   },
   "outputs": [],
   "source": [
    "# (4) Perform an X-y split: separate data from dependent and independent variables\n",
    "# creating dataframe for X keeping all other columns that were not selected for X as well\n",
    "#begin from data again\n",
    "selected_data=data.copy()\n",
    "y = selected_data['total_claim_amount']\n",
    "X = selected_data.drop(['total_claim_amount'], axis=1)"
   ]
  },
  {
   "cell_type": "markdown",
   "id": "bbd0877b-9b37-4b16-a722-5106f949d8ae",
   "metadata": {
    "tags": []
   },
   "source": [
    "### train / test split"
   ]
  },
  {
   "cell_type": "code",
   "execution_count": 313,
   "id": "f4f5728b-b8a2-49aa-b7a0-85946714e7d7",
   "metadata": {
    "tags": []
   },
   "outputs": [],
   "source": [
    "# (5) separate train and test data, for both X and y.\n",
    "from sklearn.model_selection import train_test_split\n",
    "\n",
    "X_train, X_test, y_train, y_test = train_test_split(X, y, test_size=0.2, random_state=77)"
   ]
  },
  {
   "cell_type": "code",
   "execution_count": 314,
   "id": "c0f1fff1-779b-42a5-ab22-013662ab9ffe",
   "metadata": {
    "tags": []
   },
   "outputs": [],
   "source": [
    "# (6) Create new Pandas DataFrames from the X_train and X_test Numpy arrays:\n",
    "\n",
    "X_train_df = pd.DataFrame(X_train, columns = X.columns)\n",
    "X_test_df  = pd.DataFrame(X_test,  columns = X.columns)"
   ]
  },
  {
   "cell_type": "markdown",
   "id": "7c1d3c66-7b86-4067-b99e-503c4603e4b7",
   "metadata": {},
   "source": [
    "### add addditional split here"
   ]
  },
  {
   "cell_type": "code",
   "execution_count": 424,
   "id": "2fc0e778-34ef-49d3-a061-184670c06a5c",
   "metadata": {
    "tags": []
   },
   "outputs": [],
   "source": [
    "selected_columns=['customer_lifetime_value','income', 'monthly_premium_auto']\n",
    "keep_columns=['number_of_open_complaints', 'number_of_policies']"
   ]
  },
  {
   "cell_type": "code",
   "execution_count": 425,
   "id": "acfa8026-144a-4e09-b7f3-508afadcb9cb",
   "metadata": {
    "tags": []
   },
   "outputs": [],
   "source": [
    "# (7) Split the X_train Pandas DataFrame into two parts: numerical and categorical\n",
    "\n",
    "#numerical TRAIN:\n",
    "X_train_num_df_all = X_train_df.select_dtypes(include = np.number)\n",
    "X_train_num_df = X_train_num_df_all[selected_columns]  #selected columns\n",
    "X_train_num_df_keep = X_train_num_df_all[keep_columns] #columns to keep\n",
    "\n",
    "#numerical TEST:\n",
    "X_test_num_df_all = X_test_df.select_dtypes(include = np.number)\n",
    "X_test_num_df = X_test_df[selected_columns]  #selected columns\n",
    "X_test_num_df_keep = X_test_df[keep_columns] #columns to keep\n",
    "\n",
    "#categorical:\n",
    "X_train_cat_df=X_train_df.select_dtypes(include=[\"object\"])\n",
    "X_test_cat_df=X_test_df.select_dtypes(include=[\"object\"])"
   ]
  },
  {
   "cell_type": "markdown",
   "id": "eaf87c88-a63e-4fe4-9636-ff585e6b4ab9",
   "metadata": {
    "tags": []
   },
   "source": [
    "### Transformation: numerical"
   ]
  },
  {
   "cell_type": "code",
   "execution_count": 317,
   "id": "472eb09b-612c-410e-9878-0420440db2e6",
   "metadata": {
    "tags": []
   },
   "outputs": [],
   "source": [
    "# Status: Done! Output:\n",
    "# X_train_num_transformed_df \n",
    "# X_test_num_transformed_df"
   ]
  },
  {
   "cell_type": "code",
   "execution_count": 426,
   "id": "df8826c1-36f4-4049-81c5-cab3d52a6b4d",
   "metadata": {
    "tags": []
   },
   "outputs": [
    {
     "data": {
      "text/html": [
       "<div>\n",
       "<style scoped>\n",
       "    .dataframe tbody tr th:only-of-type {\n",
       "        vertical-align: middle;\n",
       "    }\n",
       "\n",
       "    .dataframe tbody tr th {\n",
       "        vertical-align: top;\n",
       "    }\n",
       "\n",
       "    .dataframe thead th {\n",
       "        text-align: right;\n",
       "    }\n",
       "</style>\n",
       "<table border=\"1\" class=\"dataframe\">\n",
       "  <thead>\n",
       "    <tr style=\"text-align: right;\">\n",
       "      <th></th>\n",
       "      <th>customer_lifetime_value</th>\n",
       "      <th>income</th>\n",
       "      <th>monthly_premium_auto</th>\n",
       "      <th>number_of_open_complaints</th>\n",
       "      <th>number_of_policies</th>\n",
       "      <th>total_claim_amount</th>\n",
       "    </tr>\n",
       "  </thead>\n",
       "  <tbody>\n",
       "    <tr>\n",
       "      <th>count</th>\n",
       "      <td>7988.000000</td>\n",
       "      <td>7988.000000</td>\n",
       "      <td>7988.000000</td>\n",
       "      <td>7988.000000</td>\n",
       "      <td>7988.000000</td>\n",
       "      <td>7988.000000</td>\n",
       "    </tr>\n",
       "    <tr>\n",
       "      <th>mean</th>\n",
       "      <td>6069.716768</td>\n",
       "      <td>37718.572233</td>\n",
       "      <td>86.894717</td>\n",
       "      <td>0.392088</td>\n",
       "      <td>3.052328</td>\n",
       "      <td>400.173487</td>\n",
       "    </tr>\n",
       "    <tr>\n",
       "      <th>std</th>\n",
       "      <td>3043.972422</td>\n",
       "      <td>30479.345318</td>\n",
       "      <td>22.558985</td>\n",
       "      <td>0.926900</td>\n",
       "      <td>2.472489</td>\n",
       "      <td>233.305297</td>\n",
       "    </tr>\n",
       "    <tr>\n",
       "      <th>min</th>\n",
       "      <td>1898.007675</td>\n",
       "      <td>0.000000</td>\n",
       "      <td>61.000000</td>\n",
       "      <td>0.000000</td>\n",
       "      <td>1.000000</td>\n",
       "      <td>0.099007</td>\n",
       "    </tr>\n",
       "    <tr>\n",
       "      <th>25%</th>\n",
       "      <td>3652.322444</td>\n",
       "      <td>0.000000</td>\n",
       "      <td>68.000000</td>\n",
       "      <td>0.000000</td>\n",
       "      <td>1.000000</td>\n",
       "      <td>261.930545</td>\n",
       "    </tr>\n",
       "    <tr>\n",
       "      <th>50%</th>\n",
       "      <td>5348.186793</td>\n",
       "      <td>33880.000000</td>\n",
       "      <td>79.000000</td>\n",
       "      <td>0.000000</td>\n",
       "      <td>2.000000</td>\n",
       "      <td>364.800000</td>\n",
       "    </tr>\n",
       "    <tr>\n",
       "      <th>75%</th>\n",
       "      <td>8009.846870</td>\n",
       "      <td>62412.000000</td>\n",
       "      <td>105.000000</td>\n",
       "      <td>0.000000</td>\n",
       "      <td>4.000000</td>\n",
       "      <td>527.209700</td>\n",
       "    </tr>\n",
       "    <tr>\n",
       "      <th>max</th>\n",
       "      <td>15814.745570</td>\n",
       "      <td>99981.000000</td>\n",
       "      <td>170.000000</td>\n",
       "      <td>5.000000</td>\n",
       "      <td>9.000000</td>\n",
       "      <td>1985.999807</td>\n",
       "    </tr>\n",
       "  </tbody>\n",
       "</table>\n",
       "</div>"
      ],
      "text/plain": [
       "       customer_lifetime_value        income  monthly_premium_auto  \\\n",
       "count              7988.000000   7988.000000           7988.000000   \n",
       "mean               6069.716768  37718.572233             86.894717   \n",
       "std                3043.972422  30479.345318             22.558985   \n",
       "min                1898.007675      0.000000             61.000000   \n",
       "25%                3652.322444      0.000000             68.000000   \n",
       "50%                5348.186793  33880.000000             79.000000   \n",
       "75%                8009.846870  62412.000000            105.000000   \n",
       "max               15814.745570  99981.000000            170.000000   \n",
       "\n",
       "       number_of_open_complaints  number_of_policies  total_claim_amount  \n",
       "count                7988.000000         7988.000000         7988.000000  \n",
       "mean                    0.392088            3.052328          400.173487  \n",
       "std                     0.926900            2.472489          233.305297  \n",
       "min                     0.000000            1.000000            0.099007  \n",
       "25%                     0.000000            1.000000          261.930545  \n",
       "50%                     0.000000            2.000000          364.800000  \n",
       "75%                     0.000000            4.000000          527.209700  \n",
       "max                     5.000000            9.000000         1985.999807  "
      ]
     },
     "execution_count": 426,
     "metadata": {},
     "output_type": "execute_result"
    }
   ],
   "source": [
    "data.describe() #apply logarithmic scaling to clv and mtpremium, not income (as it has zero in values)"
   ]
  },
  {
   "cell_type": "code",
   "execution_count": 427,
   "id": "9408168f-f7cf-4ed4-8604-3ad73f7453b2",
   "metadata": {
    "tags": []
   },
   "outputs": [
    {
     "data": {
      "text/html": [
       "<style>#sk-container-id-19 {color: black;}#sk-container-id-19 pre{padding: 0;}#sk-container-id-19 div.sk-toggleable {background-color: white;}#sk-container-id-19 label.sk-toggleable__label {cursor: pointer;display: block;width: 100%;margin-bottom: 0;padding: 0.3em;box-sizing: border-box;text-align: center;}#sk-container-id-19 label.sk-toggleable__label-arrow:before {content: \"▸\";float: left;margin-right: 0.25em;color: #696969;}#sk-container-id-19 label.sk-toggleable__label-arrow:hover:before {color: black;}#sk-container-id-19 div.sk-estimator:hover label.sk-toggleable__label-arrow:before {color: black;}#sk-container-id-19 div.sk-toggleable__content {max-height: 0;max-width: 0;overflow: hidden;text-align: left;background-color: #f0f8ff;}#sk-container-id-19 div.sk-toggleable__content pre {margin: 0.2em;color: black;border-radius: 0.25em;background-color: #f0f8ff;}#sk-container-id-19 input.sk-toggleable__control:checked~div.sk-toggleable__content {max-height: 200px;max-width: 100%;overflow: auto;}#sk-container-id-19 input.sk-toggleable__control:checked~label.sk-toggleable__label-arrow:before {content: \"▾\";}#sk-container-id-19 div.sk-estimator input.sk-toggleable__control:checked~label.sk-toggleable__label {background-color: #d4ebff;}#sk-container-id-19 div.sk-label input.sk-toggleable__control:checked~label.sk-toggleable__label {background-color: #d4ebff;}#sk-container-id-19 input.sk-hidden--visually {border: 0;clip: rect(1px 1px 1px 1px);clip: rect(1px, 1px, 1px, 1px);height: 1px;margin: -1px;overflow: hidden;padding: 0;position: absolute;width: 1px;}#sk-container-id-19 div.sk-estimator {font-family: monospace;background-color: #f0f8ff;border: 1px dotted black;border-radius: 0.25em;box-sizing: border-box;margin-bottom: 0.5em;}#sk-container-id-19 div.sk-estimator:hover {background-color: #d4ebff;}#sk-container-id-19 div.sk-parallel-item::after {content: \"\";width: 100%;border-bottom: 1px solid gray;flex-grow: 1;}#sk-container-id-19 div.sk-label:hover label.sk-toggleable__label {background-color: #d4ebff;}#sk-container-id-19 div.sk-serial::before {content: \"\";position: absolute;border-left: 1px solid gray;box-sizing: border-box;top: 0;bottom: 0;left: 50%;z-index: 0;}#sk-container-id-19 div.sk-serial {display: flex;flex-direction: column;align-items: center;background-color: white;padding-right: 0.2em;padding-left: 0.2em;position: relative;}#sk-container-id-19 div.sk-item {position: relative;z-index: 1;}#sk-container-id-19 div.sk-parallel {display: flex;align-items: stretch;justify-content: center;background-color: white;position: relative;}#sk-container-id-19 div.sk-item::before, #sk-container-id-19 div.sk-parallel-item::before {content: \"\";position: absolute;border-left: 1px solid gray;box-sizing: border-box;top: 0;bottom: 0;left: 50%;z-index: -1;}#sk-container-id-19 div.sk-parallel-item {display: flex;flex-direction: column;z-index: 1;position: relative;background-color: white;}#sk-container-id-19 div.sk-parallel-item:first-child::after {align-self: flex-end;width: 50%;}#sk-container-id-19 div.sk-parallel-item:last-child::after {align-self: flex-start;width: 50%;}#sk-container-id-19 div.sk-parallel-item:only-child::after {width: 0;}#sk-container-id-19 div.sk-dashed-wrapped {border: 1px dashed gray;margin: 0 0.4em 0.5em 0.4em;box-sizing: border-box;padding-bottom: 0.4em;background-color: white;}#sk-container-id-19 div.sk-label label {font-family: monospace;font-weight: bold;display: inline-block;line-height: 1.2em;}#sk-container-id-19 div.sk-label-container {text-align: center;}#sk-container-id-19 div.sk-container {/* jupyter's `normalize.less` sets `[hidden] { display: none; }` but bootstrap.min.css set `[hidden] { display: none !important; }` so we also need the `!important` here to be able to override the default hidden behavior on the sphinx rendered scikit-learn.org. See: https://github.com/scikit-learn/scikit-learn/issues/21755 */display: inline-block !important;position: relative;}#sk-container-id-19 div.sk-text-repr-fallback {display: none;}</style><div id=\"sk-container-id-19\" class=\"sk-top-container\"><div class=\"sk-text-repr-fallback\"><pre>PowerTransformer()</pre><b>In a Jupyter environment, please rerun this cell to show the HTML representation or trust the notebook. <br />On GitHub, the HTML representation is unable to render, please try loading this page with nbviewer.org.</b></div><div class=\"sk-container\" hidden><div class=\"sk-item\"><div class=\"sk-estimator sk-toggleable\"><input class=\"sk-toggleable__control sk-hidden--visually\" id=\"sk-estimator-id-19\" type=\"checkbox\" checked><label for=\"sk-estimator-id-19\" class=\"sk-toggleable__label sk-toggleable__label-arrow\">PowerTransformer</label><div class=\"sk-toggleable__content\"><pre>PowerTransformer()</pre></div></div></div></div></div>"
      ],
      "text/plain": [
       "PowerTransformer()"
      ]
     },
     "execution_count": 427,
     "metadata": {},
     "output_type": "execute_result"
    }
   ],
   "source": [
    "# (8) Train transformers and/or scalers for the numerical columns:\n",
    "# Use the .fit() method on the train set to train the transformer/scaler on the numerical columns.\n",
    "\n",
    "from sklearn.preprocessing import PowerTransformer\n",
    "\n",
    "# Transforming data\n",
    "p_transformer = PowerTransformer(standardize=True)\n",
    "p_transformer.fit(X_train_num_df) # we will reuse this transformer for X_test later\n",
    "# keep original data and transf in new DF."
   ]
  },
  {
   "cell_type": "code",
   "execution_count": 428,
   "id": "770e53ae-de12-4724-b084-d173588827b9",
   "metadata": {
    "tags": []
   },
   "outputs": [],
   "source": [
    "# (9) Save transformers/scalers using pickle:\n",
    "\n",
    "import pickle\n",
    "\n",
    "path = \"./\"\n",
    "filename = \"power_transformer_lab.pkl\"\n",
    "\n",
    "with open(path+filename, \"wb\") as file:\n",
    "    pickle.dump(p_transformer, file)"
   ]
  },
  {
   "cell_type": "code",
   "execution_count": 429,
   "id": "7b644062-f59d-4c1c-a820-6dc298746bfb",
   "metadata": {
    "tags": []
   },
   "outputs": [
    {
     "data": {
      "text/html": [
       "<div>\n",
       "<style scoped>\n",
       "    .dataframe tbody tr th:only-of-type {\n",
       "        vertical-align: middle;\n",
       "    }\n",
       "\n",
       "    .dataframe tbody tr th {\n",
       "        vertical-align: top;\n",
       "    }\n",
       "\n",
       "    .dataframe thead th {\n",
       "        text-align: right;\n",
       "    }\n",
       "</style>\n",
       "<table border=\"1\" class=\"dataframe\">\n",
       "  <thead>\n",
       "    <tr style=\"text-align: right;\">\n",
       "      <th></th>\n",
       "      <th>customer_lifetime_value</th>\n",
       "      <th>income</th>\n",
       "      <th>monthly_premium_auto</th>\n",
       "    </tr>\n",
       "  </thead>\n",
       "  <tbody>\n",
       "    <tr>\n",
       "      <th>0</th>\n",
       "      <td>0.521885</td>\n",
       "      <td>-0.001956</td>\n",
       "      <td>-1.515457</td>\n",
       "    </tr>\n",
       "    <tr>\n",
       "      <th>1</th>\n",
       "      <td>-0.664744</td>\n",
       "      <td>0.846986</td>\n",
       "      <td>0.671122</td>\n",
       "    </tr>\n",
       "    <tr>\n",
       "      <th>2</th>\n",
       "      <td>-0.400247</td>\n",
       "      <td>0.499599</td>\n",
       "      <td>1.088427</td>\n",
       "    </tr>\n",
       "    <tr>\n",
       "      <th>3</th>\n",
       "      <td>0.885745</td>\n",
       "      <td>-1.616295</td>\n",
       "      <td>-0.954222</td>\n",
       "    </tr>\n",
       "    <tr>\n",
       "      <th>4</th>\n",
       "      <td>1.005424</td>\n",
       "      <td>-1.616295</td>\n",
       "      <td>0.101699</td>\n",
       "    </tr>\n",
       "  </tbody>\n",
       "</table>\n",
       "</div>"
      ],
      "text/plain": [
       "   customer_lifetime_value    income  monthly_premium_auto\n",
       "0                 0.521885 -0.001956             -1.515457\n",
       "1                -0.664744  0.846986              0.671122\n",
       "2                -0.400247  0.499599              1.088427\n",
       "3                 0.885745 -1.616295             -0.954222\n",
       "4                 1.005424 -1.616295              0.101699"
      ]
     },
     "execution_count": 429,
     "metadata": {},
     "output_type": "execute_result"
    }
   ],
   "source": [
    "# (10) Transform the numerical columns in both the train and test sets:\n",
    "#Use the .transform() method on the train and test sets to apply the transformers/scalers.\n",
    "\n",
    "# transform, creates np.array\n",
    "X_train_num_transformed = p_transformer.transform(X_train_num_df)\n",
    "X_test_num_transformed  = p_transformer.transform(X_test_num_df)\n",
    "\n",
    "# convert from np.array to pd.DataFrame\n",
    "X_train_num_transformed_df = pd.DataFrame(X_train_num_transformed, columns=X_train_num_df.columns)\n",
    "X_test_num_transformed_df  = pd.DataFrame(X_test_num_transformed,  columns=X_test_num_df.columns)\n",
    "X_train_num_transformed_df.head()"
   ]
  },
  {
   "cell_type": "markdown",
   "id": "4362368f-d6da-4a65-9d3a-a1843d87c7a6",
   "metadata": {
    "tags": []
   },
   "source": [
    "#### Charts: post transformation"
   ]
  },
  {
   "cell_type": "code",
   "execution_count": 430,
   "id": "656bfdcf-4663-47c9-9880-1da60c49848e",
   "metadata": {
    "tags": []
   },
   "outputs": [
    {
     "name": "stdout",
     "output_type": "stream",
     "text": [
      "[-0.01155798  0.26621737 -1.30407605]\n"
     ]
    }
   ],
   "source": [
    "print(p_transformer.lambdas_)\n"
   ]
  },
  {
   "cell_type": "code",
   "execution_count": 469,
   "id": "d59c8d81-d482-43b5-9e88-62df73d07615",
   "metadata": {
    "tags": []
   },
   "outputs": [
    {
     "name": "stderr",
     "output_type": "stream",
     "text": [
      "/Users/alexferrer/anaconda3/lib/python3.11/site-packages/seaborn/axisgrid.py:118: UserWarning: The figure layout has changed to tight\n",
      "  self._figure.tight_layout(*args, **kwargs)\n"
     ]
    },
    {
     "data": {
      "image/png": "[encoded data removed]",
      "text/plain": [
       "<Figure size 500x500 with 1 Axes>"
      ]
     },
     "metadata": {},
     "output_type": "display_data"
    }
   ],
   "source": [
    "#print(pt.transform(data))\n",
    "sns.displot(X_train_num_df['monthly_premium_auto'])\n",
    "plt.show()"
   ]
  },
  {
   "cell_type": "code",
   "execution_count": 325,
   "id": "02cd2f3d-563c-45db-8c10-811f899861e3",
   "metadata": {
    "tags": []
   },
   "outputs": [
    {
     "name": "stderr",
     "output_type": "stream",
     "text": [
      "/Users/alexferrer/anaconda3/lib/python3.11/site-packages/seaborn/axisgrid.py:118: UserWarning: The figure layout has changed to tight\n",
      "  self._figure.tight_layout(*args, **kwargs)\n"
     ]
    },
    {
     "data": {
      "image/png": "[encoded data removed]",
      "text/plain": [
       "<Figure size 500x500 with 1 Axes>"
      ]
     },
     "metadata": {},
     "output_type": "display_data"
    }
   ],
   "source": [
    "#print(pt.transform(data))\n",
    "sns.displot(X_train_num_transformed_df['monthly_premium_auto'])\n",
    "plt.show()"
   ]
  },
  {
   "cell_type": "markdown",
   "id": "04f5fbc5-2862-4ab5-81ff-6845a8561b68",
   "metadata": {
    "tags": []
   },
   "source": [
    "### Transformation: categorical"
   ]
  },
  {
   "cell_type": "code",
   "execution_count": 431,
   "id": "b358e2d5-2de4-4ca7-8282-16bcf2d816e4",
   "metadata": {
    "tags": []
   },
   "outputs": [],
   "source": [
    "# define and split categorical variables into ordinal and nominal: \n",
    "\n",
    "# ordinal: \n",
    "# 'response', 'coverage', 'education', 'employmentstatus', 'sales_channel', 'vehicle_class', 'vehicle_size'\n",
    "\n",
    "# nominal\n",
    "# 'customer', 'state', 'effective_to_date', 'gender', 'location_code', 'marital_status', 'months_since_last_claim', 'months_since_policy_inception', 'policy_type', 'policy', 'renew_offer_type'\n",
    "\n",
    "# ordinal and nomina columns list\n",
    "selected_columns_ordinal = ['response', 'coverage', 'education', 'employmentstatus', 'sales_channel', 'vehicle_class', 'vehicle_size']\n",
    "selected_columns_nominal = ['state', 'effective_to_date', 'gender', 'location_code', 'marital_status', 'months_since_last_claim', 'months_since_policy_inception', 'policy_type', 'policy', 'renew_offer_type']\n",
    "#selected_columns_nominal_customer=['customer']"
   ]
  },
  {
   "cell_type": "code",
   "execution_count": 432,
   "id": "f96df649-4906-4e1b-bfea-f16db506b8f3",
   "metadata": {
    "tags": []
   },
   "outputs": [],
   "source": [
    "# split X_train_cat into ordinal and nominal\n",
    "X_train_cat_ordinal_df = X_train_cat_df[selected_columns_ordinal]\n",
    "\n",
    "X_train_cat_nominal_df = X_train_cat_df[selected_columns_nominal]\n",
    "\n",
    "# split X_test_cat into ordinal and nominal\n",
    "X_test_cat_ordinal_df = X_test_cat_df[selected_columns_ordinal]\n",
    "\n",
    "X_test_cat_nominal_df = X_test_cat_df[selected_columns_nominal]\n"
   ]
  },
  {
   "cell_type": "code",
   "execution_count": 433,
   "id": "f1fc75e0-e21e-4b89-b614-c661ca68beea",
   "metadata": {
    "tags": []
   },
   "outputs": [
    {
     "data": {
      "text/plain": [
       "(6390, 10)"
      ]
     },
     "execution_count": 433,
     "metadata": {},
     "output_type": "execute_result"
    }
   ],
   "source": [
    "X_train_cat_nominal_df.shape"
   ]
  },
  {
   "cell_type": "markdown",
   "id": "b7621406-1dcc-4967-bee7-6189d3006d3f",
   "metadata": {},
   "source": [
    "#### Categorical: Nominal. Transform with OneHotEncoder"
   ]
  },
  {
   "cell_type": "code",
   "execution_count": 434,
   "id": "a4736276-1e19-4732-b201-68a3f524f50c",
   "metadata": {
    "tags": []
   },
   "outputs": [],
   "source": [
    "# (11) Transform the categorical nominal columns into numbers using OneHotEncoder:\n",
    "# Apply the OneHotEncoder on both the train and test sets using the .transform() method.\n",
    "#STATUS DONE! Output:\n",
    "# X_train_cat_nominal_df_encoded\n",
    "# X_test_cat_nominal_df_encoded\n",
    "#customer?"
   ]
  },
  {
   "cell_type": "code",
   "execution_count": 435,
   "id": "5bcb07d9-6558-40ee-a636-1df78cac3980",
   "metadata": {
    "tags": []
   },
   "outputs": [
    {
     "data": {
      "text/html": [
       "<style>#sk-container-id-20 {color: black;}#sk-container-id-20 pre{padding: 0;}#sk-container-id-20 div.sk-toggleable {background-color: white;}#sk-container-id-20 label.sk-toggleable__label {cursor: pointer;display: block;width: 100%;margin-bottom: 0;padding: 0.3em;box-sizing: border-box;text-align: center;}#sk-container-id-20 label.sk-toggleable__label-arrow:before {content: \"▸\";float: left;margin-right: 0.25em;color: #696969;}#sk-container-id-20 label.sk-toggleable__label-arrow:hover:before {color: black;}#sk-container-id-20 div.sk-estimator:hover label.sk-toggleable__label-arrow:before {color: black;}#sk-container-id-20 div.sk-toggleable__content {max-height: 0;max-width: 0;overflow: hidden;text-align: left;background-color: #f0f8ff;}#sk-container-id-20 div.sk-toggleable__content pre {margin: 0.2em;color: black;border-radius: 0.25em;background-color: #f0f8ff;}#sk-container-id-20 input.sk-toggleable__control:checked~div.sk-toggleable__content {max-height: 200px;max-width: 100%;overflow: auto;}#sk-container-id-20 input.sk-toggleable__control:checked~label.sk-toggleable__label-arrow:before {content: \"▾\";}#sk-container-id-20 div.sk-estimator input.sk-toggleable__control:checked~label.sk-toggleable__label {background-color: #d4ebff;}#sk-container-id-20 div.sk-label input.sk-toggleable__control:checked~label.sk-toggleable__label {background-color: #d4ebff;}#sk-container-id-20 input.sk-hidden--visually {border: 0;clip: rect(1px 1px 1px 1px);clip: rect(1px, 1px, 1px, 1px);height: 1px;margin: -1px;overflow: hidden;padding: 0;position: absolute;width: 1px;}#sk-container-id-20 div.sk-estimator {font-family: monospace;background-color: #f0f8ff;border: 1px dotted black;border-radius: 0.25em;box-sizing: border-box;margin-bottom: 0.5em;}#sk-container-id-20 div.sk-estimator:hover {background-color: #d4ebff;}#sk-container-id-20 div.sk-parallel-item::after {content: \"\";width: 100%;border-bottom: 1px solid gray;flex-grow: 1;}#sk-container-id-20 div.sk-label:hover label.sk-toggleable__label {background-color: #d4ebff;}#sk-container-id-20 div.sk-serial::before {content: \"\";position: absolute;border-left: 1px solid gray;box-sizing: border-box;top: 0;bottom: 0;left: 50%;z-index: 0;}#sk-container-id-20 div.sk-serial {display: flex;flex-direction: column;align-items: center;background-color: white;padding-right: 0.2em;padding-left: 0.2em;position: relative;}#sk-container-id-20 div.sk-item {position: relative;z-index: 1;}#sk-container-id-20 div.sk-parallel {display: flex;align-items: stretch;justify-content: center;background-color: white;position: relative;}#sk-container-id-20 div.sk-item::before, #sk-container-id-20 div.sk-parallel-item::before {content: \"\";position: absolute;border-left: 1px solid gray;box-sizing: border-box;top: 0;bottom: 0;left: 50%;z-index: -1;}#sk-container-id-20 div.sk-parallel-item {display: flex;flex-direction: column;z-index: 1;position: relative;background-color: white;}#sk-container-id-20 div.sk-parallel-item:first-child::after {align-self: flex-end;width: 50%;}#sk-container-id-20 div.sk-parallel-item:last-child::after {align-self: flex-start;width: 50%;}#sk-container-id-20 div.sk-parallel-item:only-child::after {width: 0;}#sk-container-id-20 div.sk-dashed-wrapped {border: 1px dashed gray;margin: 0 0.4em 0.5em 0.4em;box-sizing: border-box;padding-bottom: 0.4em;background-color: white;}#sk-container-id-20 div.sk-label label {font-family: monospace;font-weight: bold;display: inline-block;line-height: 1.2em;}#sk-container-id-20 div.sk-label-container {text-align: center;}#sk-container-id-20 div.sk-container {/* jupyter's `normalize.less` sets `[hidden] { display: none; }` but bootstrap.min.css set `[hidden] { display: none !important; }` so we also need the `!important` here to be able to override the default hidden behavior on the sphinx rendered scikit-learn.org. See: https://github.com/scikit-learn/scikit-learn/issues/21755 */display: inline-block !important;position: relative;}#sk-container-id-20 div.sk-text-repr-fallback {display: none;}</style><div id=\"sk-container-id-20\" class=\"sk-top-container\"><div class=\"sk-text-repr-fallback\"><pre>OneHotEncoder(drop=&#x27;first&#x27;, handle_unknown=&#x27;ignore&#x27;)</pre><b>In a Jupyter environment, please rerun this cell to show the HTML representation or trust the notebook. <br />On GitHub, the HTML representation is unable to render, please try loading this page with nbviewer.org.</b></div><div class=\"sk-container\" hidden><div class=\"sk-item\"><div class=\"sk-estimator sk-toggleable\"><input class=\"sk-toggleable__control sk-hidden--visually\" id=\"sk-estimator-id-20\" type=\"checkbox\" checked><label for=\"sk-estimator-id-20\" class=\"sk-toggleable__label sk-toggleable__label-arrow\">OneHotEncoder</label><div class=\"sk-toggleable__content\"><pre>OneHotEncoder(drop=&#x27;first&#x27;, handle_unknown=&#x27;ignore&#x27;)</pre></div></div></div></div></div>"
      ],
      "text/plain": [
       "OneHotEncoder(drop='first', handle_unknown='ignore')"
      ]
     },
     "execution_count": 435,
     "metadata": {},
     "output_type": "execute_result"
    }
   ],
   "source": [
    "# Train the OneHotEncoder only on the train set using the .fit() method.\n",
    "from sklearn.preprocessing import OneHotEncoder\n",
    "import pickle\n",
    "\n",
    "encoder = OneHotEncoder(drop='first', handle_unknown='ignore')  \n",
    "encoder.fit(X_train_cat_nominal_df)"
   ]
  },
  {
   "cell_type": "code",
   "execution_count": 436,
   "id": "6fbebf45-7d50-41dc-8e80-1b3f5e91034a",
   "metadata": {
    "tags": []
   },
   "outputs": [],
   "source": [
    "# save encoder for future use\n",
    "\n",
    "path = \"./\"\n",
    "filename = \"one_hot_encoder_lab.pkl\"\n",
    "with open(path+filename, \"wb\") as file:\n",
    "    pickle.dump(encoder, file)"
   ]
  },
  {
   "cell_type": "code",
   "execution_count": 437,
   "id": "1e7f25f6-b993-4975-87fd-b7a00819fa77",
   "metadata": {
    "tags": []
   },
   "outputs": [],
   "source": [
    "# # Apply the OneHotEncoder on both the train and test sets using the .transform() method.\n",
    "\n",
    "X_train_cat_nominal_npa_encoded = encoder.transform(X_train_cat_nominal_df).toarray() #apply to train\n",
    "X_test_cat_nominal_npa_encoded = encoder.transform(X_test_cat_nominal_df).toarray() #apply to test"
   ]
  },
  {
   "cell_type": "code",
   "execution_count": 438,
   "id": "cc074ad1-4c6a-4aeb-8672-efd240b61713",
   "metadata": {
    "tags": []
   },
   "outputs": [],
   "source": [
    "# convert np.arrays to pd.DataFrame\n",
    "X_train_cat_nominal_df_encoded = pd.DataFrame(X_train_cat_nominal_npa_encoded, columns=encoder.get_feature_names_out())\n",
    "X_test_cat_nominal_df_encoded = pd.DataFrame(X_test_cat_nominal_npa_encoded, columns=encoder.get_feature_names_out())"
   ]
  },
  {
   "cell_type": "markdown",
   "id": "a46e11ee-9c70-4f4a-b0c3-36b0629e025e",
   "metadata": {},
   "source": [
    "#### Categorical: Ordinal. Map to numerical values"
   ]
  },
  {
   "cell_type": "code",
   "execution_count": 334,
   "id": "1d6eb8c4-4c9e-44d9-8041-d68ee94488fd",
   "metadata": {},
   "outputs": [],
   "source": [
    "# (12) Replace categorical ordinal columns with numerical values:\n",
    "# Use .replace() to map the labels to numerical values while respecting the order and \n",
    "# relative \"distance\" between labels.\n",
    "# Status: Done! Output:\n",
    "# X_train_cat_ordinal_df_encoded\n",
    "# X_test_cat_ordinal_df_encoded"
   ]
  },
  {
   "cell_type": "code",
   "execution_count": 335,
   "id": "94d589a8-2454-4d04-a8d4-381927135f6b",
   "metadata": {
    "tags": []
   },
   "outputs": [
    {
     "data": {
      "text/html": [
       "<div>\n",
       "<style scoped>\n",
       "    .dataframe tbody tr th:only-of-type {\n",
       "        vertical-align: middle;\n",
       "    }\n",
       "\n",
       "    .dataframe tbody tr th {\n",
       "        vertical-align: top;\n",
       "    }\n",
       "\n",
       "    .dataframe thead th {\n",
       "        text-align: right;\n",
       "    }\n",
       "</style>\n",
       "<table border=\"1\" class=\"dataframe\">\n",
       "  <thead>\n",
       "    <tr style=\"text-align: right;\">\n",
       "      <th></th>\n",
       "      <th>response</th>\n",
       "      <th>coverage</th>\n",
       "      <th>education</th>\n",
       "      <th>employmentstatus</th>\n",
       "      <th>sales_channel</th>\n",
       "      <th>vehicle_class</th>\n",
       "      <th>vehicle_size</th>\n",
       "    </tr>\n",
       "  </thead>\n",
       "  <tbody>\n",
       "    <tr>\n",
       "      <th>count</th>\n",
       "      <td>6390</td>\n",
       "      <td>6390</td>\n",
       "      <td>6390</td>\n",
       "      <td>6390</td>\n",
       "      <td>6390</td>\n",
       "      <td>6390</td>\n",
       "      <td>6390</td>\n",
       "    </tr>\n",
       "    <tr>\n",
       "      <th>unique</th>\n",
       "      <td>2</td>\n",
       "      <td>3</td>\n",
       "      <td>5</td>\n",
       "      <td>5</td>\n",
       "      <td>4</td>\n",
       "      <td>4</td>\n",
       "      <td>3</td>\n",
       "    </tr>\n",
       "    <tr>\n",
       "      <th>top</th>\n",
       "      <td>No</td>\n",
       "      <td>Basic</td>\n",
       "      <td>Bachelor</td>\n",
       "      <td>Employed</td>\n",
       "      <td>Agent</td>\n",
       "      <td>Four-Door Car</td>\n",
       "      <td>Medsize</td>\n",
       "    </tr>\n",
       "    <tr>\n",
       "      <th>freq</th>\n",
       "      <td>5454</td>\n",
       "      <td>3982</td>\n",
       "      <td>1930</td>\n",
       "      <td>3930</td>\n",
       "      <td>2468</td>\n",
       "      <td>3456</td>\n",
       "      <td>4486</td>\n",
       "    </tr>\n",
       "  </tbody>\n",
       "</table>\n",
       "</div>"
      ],
      "text/plain": [
       "       response coverage education employmentstatus sales_channel  \\\n",
       "count      6390     6390      6390             6390          6390   \n",
       "unique        2        3         5                5             4   \n",
       "top          No    Basic  Bachelor         Employed         Agent   \n",
       "freq       5454     3982      1930             3930          2468   \n",
       "\n",
       "        vehicle_class vehicle_size  \n",
       "count            6390         6390  \n",
       "unique              4            3  \n",
       "top     Four-Door Car      Medsize  \n",
       "freq             3456         4486  "
      ]
     },
     "execution_count": 335,
     "metadata": {},
     "output_type": "execute_result"
    }
   ],
   "source": [
    "X_train_cat_ordinal_df.describe()"
   ]
  },
  {
   "cell_type": "code",
   "execution_count": 439,
   "id": "75f54aa7-d5d1-4a7a-8d31-9e5c97518c79",
   "metadata": {
    "tags": []
   },
   "outputs": [
    {
     "name": "stdout",
     "output_type": "stream",
     "text": [
      "Unique values in response: ['No' 'Yes']\n",
      "Unique values in coverage: ['Basic' 'Extended' 'Premium']\n",
      "Unique values in education: ['High School or Below' 'Bachelor' 'Doctor' 'College' 'Master']\n",
      "Unique values in employmentstatus: ['Disabled' 'Employed' 'Unemployed' 'Medical Leave' 'Retired']\n",
      "Unique values in sales_channel: ['Call Center' 'Branch' 'Agent' 'Web']\n",
      "Unique values in vehicle_class: ['Two-Door Car' 'Four-Door Car' 'Luxury' 'SUV']\n",
      "Unique values in vehicle_size: ['Medsize' 'Large' 'Small']\n"
     ]
    }
   ],
   "source": [
    "# display unique values from each column:\n",
    "for column in X_train_cat_ordinal_df.columns:\n",
    "    unique_values = X_train_cat_ordinal_df[column].unique()\n",
    "    print(f\"Unique values in {column}: {unique_values}\")"
   ]
  },
  {
   "cell_type": "code",
   "execution_count": 440,
   "id": "832756c0-fa47-4e39-8b9b-b1b0c2eee31b",
   "metadata": {
    "tags": []
   },
   "outputs": [
    {
     "data": {
      "text/plain": [
       "['response',\n",
       " 'coverage',\n",
       " 'education',\n",
       " 'employmentstatus',\n",
       " 'sales_channel',\n",
       " 'vehicle_class',\n",
       " 'vehicle_size']"
      ]
     },
     "execution_count": 440,
     "metadata": {},
     "output_type": "execute_result"
    }
   ],
   "source": [
    "#obtain column list for function\n",
    "col_list = X_train_cat_ordinal_df.columns.tolist()\n",
    "col_list"
   ]
  },
  {
   "cell_type": "code",
   "execution_count": 441,
   "id": "a57ebd08-8883-44e2-a277-515e26956334",
   "metadata": {
    "tags": []
   },
   "outputs": [],
   "source": [
    "#design mapping for function\n",
    "mappings = {\n",
    "    'response': {\n",
    "        'No': 0,\n",
    "        'Yes': 1\n",
    "    },\n",
    "    'coverage': {\n",
    "        'Extended': 1,\n",
    "        'Basic': 0,\n",
    "        'Premium': 2\n",
    "    },\n",
    "    'education': {\n",
    "        'High School or Below': 0,\n",
    "        'College': 1,\n",
    "        'Bachelor': 2,\n",
    "        'Master': 3,\n",
    "        'Doctor': 4\n",
    "    },\n",
    "    'employmentstatus': {\n",
    "        'Employed': 1,\n",
    "        'Unemployed': 0,\n",
    "        'Disabled': 0,\n",
    "        'Retired': 0,\n",
    "        'Medical Leave': 0\n",
    "    },\n",
    "    'sales_channel': {\n",
    "        'Call Center': 0,\n",
    "        'Web': 1,\n",
    "        'Branch': 2,\n",
    "        'Agent': 3\n",
    "    },\n",
    "    'vehicle_class': {\n",
    "        'Four-Door Car': 0,\n",
    "        'Two-Door Car': 1,\n",
    "        'SUV': 2,\n",
    "        'Luxury': 3\n",
    "    },\n",
    "    'vehicle_size': {\n",
    "        'Small': 0,\n",
    "        'Medsize': 1,\n",
    "        'Large': 2\n",
    "    }\n",
    "}"
   ]
  },
  {
   "cell_type": "code",
   "execution_count": 442,
   "id": "d742f0ff-8149-4fd6-847c-2ef444a742e8",
   "metadata": {
    "tags": []
   },
   "outputs": [],
   "source": [
    "from typing import List, Dict"
   ]
  },
  {
   "cell_type": "code",
   "execution_count": 443,
   "id": "208ffad6-0813-46f6-b048-259b15303c6d",
   "metadata": {
    "tags": []
   },
   "outputs": [],
   "source": [
    "# create function to aid with the transformation\n",
    "def ordinal_tranformation_to_new_df(df: pd.DataFrame, col_list: List[str], mappings: Dict[str, Dict[str, int]]) -> pd.DataFrame:\n",
    "    '''\n",
    "    this function will create the transformed/encoded columns for ordinal variables\n",
    "    df: DataFrame\n",
    "    col_list: list of columns to encode\n",
    "    mappings: dictionary of dictionaries containing the mappings for each column\n",
    "    '''\n",
    "    encoded_df = pd.DataFrame()\n",
    "    for col in col_list:\n",
    "        df2 = df.copy()\n",
    "        new_col_name = f\"{col}_cat_ord_encoded\"\n",
    "        encoded_df[new_col_name] = df2[col].map(mappings[col])\n",
    "    return encoded_df\n",
    "\n"
   ]
  },
  {
   "cell_type": "code",
   "execution_count": 444,
   "id": "7f2be6be-b9cf-477e-ad32-e45cc009df5b",
   "metadata": {
    "tags": []
   },
   "outputs": [
    {
     "data": {
      "text/html": [
       "<div>\n",
       "<style scoped>\n",
       "    .dataframe tbody tr th:only-of-type {\n",
       "        vertical-align: middle;\n",
       "    }\n",
       "\n",
       "    .dataframe tbody tr th {\n",
       "        vertical-align: top;\n",
       "    }\n",
       "\n",
       "    .dataframe thead th {\n",
       "        text-align: right;\n",
       "    }\n",
       "</style>\n",
       "<table border=\"1\" class=\"dataframe\">\n",
       "  <thead>\n",
       "    <tr style=\"text-align: right;\">\n",
       "      <th></th>\n",
       "      <th>response_cat_ord_encoded</th>\n",
       "      <th>coverage_cat_ord_encoded</th>\n",
       "      <th>education_cat_ord_encoded</th>\n",
       "      <th>employmentstatus_cat_ord_encoded</th>\n",
       "      <th>sales_channel_cat_ord_encoded</th>\n",
       "      <th>vehicle_class_cat_ord_encoded</th>\n",
       "      <th>vehicle_size_cat_ord_encoded</th>\n",
       "    </tr>\n",
       "    <tr>\n",
       "      <th>customer</th>\n",
       "      <th></th>\n",
       "      <th></th>\n",
       "      <th></th>\n",
       "      <th></th>\n",
       "      <th></th>\n",
       "      <th></th>\n",
       "      <th></th>\n",
       "    </tr>\n",
       "  </thead>\n",
       "  <tbody>\n",
       "    <tr>\n",
       "      <th>NP88319</th>\n",
       "      <td>0</td>\n",
       "      <td>0</td>\n",
       "      <td>0</td>\n",
       "      <td>0</td>\n",
       "      <td>0</td>\n",
       "      <td>1</td>\n",
       "      <td>1</td>\n",
       "    </tr>\n",
       "    <tr>\n",
       "      <th>QN62502</th>\n",
       "      <td>0</td>\n",
       "      <td>1</td>\n",
       "      <td>2</td>\n",
       "      <td>1</td>\n",
       "      <td>2</td>\n",
       "      <td>0</td>\n",
       "      <td>1</td>\n",
       "    </tr>\n",
       "    <tr>\n",
       "      <th>OA23108</th>\n",
       "      <td>0</td>\n",
       "      <td>0</td>\n",
       "      <td>4</td>\n",
       "      <td>1</td>\n",
       "      <td>2</td>\n",
       "      <td>3</td>\n",
       "      <td>1</td>\n",
       "    </tr>\n",
       "    <tr>\n",
       "      <th>UC69263</th>\n",
       "      <td>0</td>\n",
       "      <td>0</td>\n",
       "      <td>2</td>\n",
       "      <td>0</td>\n",
       "      <td>3</td>\n",
       "      <td>1</td>\n",
       "      <td>1</td>\n",
       "    </tr>\n",
       "    <tr>\n",
       "      <th>UG38549</th>\n",
       "      <td>0</td>\n",
       "      <td>1</td>\n",
       "      <td>0</td>\n",
       "      <td>0</td>\n",
       "      <td>3</td>\n",
       "      <td>0</td>\n",
       "      <td>2</td>\n",
       "    </tr>\n",
       "  </tbody>\n",
       "</table>\n",
       "</div>"
      ],
      "text/plain": [
       "          response_cat_ord_encoded  coverage_cat_ord_encoded  \\\n",
       "customer                                                       \n",
       "NP88319                          0                         0   \n",
       "QN62502                          0                         1   \n",
       "OA23108                          0                         0   \n",
       "UC69263                          0                         0   \n",
       "UG38549                          0                         1   \n",
       "\n",
       "          education_cat_ord_encoded  employmentstatus_cat_ord_encoded  \\\n",
       "customer                                                                \n",
       "NP88319                           0                                 0   \n",
       "QN62502                           2                                 1   \n",
       "OA23108                           4                                 1   \n",
       "UC69263                           2                                 0   \n",
       "UG38549                           0                                 0   \n",
       "\n",
       "          sales_channel_cat_ord_encoded  vehicle_class_cat_ord_encoded  \\\n",
       "customer                                                                 \n",
       "NP88319                               0                              1   \n",
       "QN62502                               2                              0   \n",
       "OA23108                               2                              3   \n",
       "UC69263                               3                              1   \n",
       "UG38549                               3                              0   \n",
       "\n",
       "          vehicle_size_cat_ord_encoded  \n",
       "customer                                \n",
       "NP88319                              1  \n",
       "QN62502                              1  \n",
       "OA23108                              1  \n",
       "UC69263                              1  \n",
       "UG38549                              2  "
      ]
     },
     "execution_count": 444,
     "metadata": {},
     "output_type": "execute_result"
    }
   ],
   "source": [
    "#call function\n",
    "X_train_cat_ordinal_df_encoded = ordinal_tranformation_to_new_df(X_train_cat_ordinal_df, col_list, mappings)\n",
    "X_test_cat_ordinal_df_encoded = ordinal_tranformation_to_new_df(X_test_cat_ordinal_df, col_list, mappings)\n",
    "\n",
    "X_train_cat_ordinal_df_encoded.head()"
   ]
  },
  {
   "cell_type": "code",
   "execution_count": 445,
   "id": "620cffb0-c4c5-40c5-8d31-714a15d8d504",
   "metadata": {
    "tags": []
   },
   "outputs": [
    {
     "name": "stdout",
     "output_type": "stream",
     "text": [
      "Unique values in response_cat_ord_encoded: [0 1]\n",
      "Unique values in coverage_cat_ord_encoded: [0 1 2]\n",
      "Unique values in education_cat_ord_encoded: [0 2 4 1 3]\n",
      "Unique values in employmentstatus_cat_ord_encoded: [0 1]\n",
      "Unique values in sales_channel_cat_ord_encoded: [0 2 3 1]\n",
      "Unique values in vehicle_class_cat_ord_encoded: [1 0 3 2]\n",
      "Unique values in vehicle_size_cat_ord_encoded: [1 2 0]\n"
     ]
    }
   ],
   "source": [
    "# display unique values from each column:\n",
    "for column in X_train_cat_ordinal_df_encoded.columns:\n",
    "    unique_values = X_train_cat_ordinal_df_encoded[column].unique()\n",
    "    print(f\"Unique values in {column}: {unique_values}\")"
   ]
  },
  {
   "cell_type": "markdown",
   "id": "f5048d99-51b4-4c09-a99e-0d9520c974f0",
   "metadata": {
    "tags": []
   },
   "source": [
    "### Post Transformation: more transformation"
   ]
  },
  {
   "cell_type": "markdown",
   "id": "9610893f-5b73-4e54-8ddf-11990452c6fc",
   "metadata": {
    "tags": []
   },
   "source": [
    "#### Concatenate DataFrame(s)"
   ]
  },
  {
   "cell_type": "code",
   "execution_count": 343,
   "id": "6e79c994-d60d-4cf5-9c59-03d9f287e063",
   "metadata": {
    "tags": []
   },
   "outputs": [],
   "source": [
    "#list of dataframes to be concatenated:\n",
    "\n",
    "# X_train_num_transformed_df --no index\n",
    "# X_test_num_transformed_df\n",
    "\n",
    "# X_train_cat_nominal_df_encoded -- no index\n",
    "# X_test_cat_nominal_df_encoded\n",
    "\n",
    "# X_train_cat_ordinal_df_encoded -- with customer index\n",
    "# X_test_cat_ordinal_df_encoded"
   ]
  },
  {
   "cell_type": "code",
   "execution_count": 446,
   "id": "c5ae1017-f135-4176-b77f-89ff0ebbb443",
   "metadata": {
    "tags": []
   },
   "outputs": [],
   "source": [
    "# (13) Concatenate the transformed numerical and categorical DataFrames:\n",
    "#drop index as the data has index inconsistencies (some used customer some regular index)\n",
    "\n",
    "X_train_num_df.reset_index(inplace=True)\n",
    "X_test_num_df.reset_index(inplace=True)\n",
    "\n",
    "X_train_num_transformed_df.reset_index(drop=True, inplace=True)\n",
    "X_test_num_transformed_df.reset_index(drop=True, inplace=True)\n",
    "\n",
    "X_train_cat_nominal_df_encoded.reset_index(drop=True, inplace=True)\n",
    "X_test_cat_nominal_df_encoded.reset_index(drop=True, inplace=True)\n",
    "\n",
    "X_train_cat_ordinal_df_encoded.reset_index(drop=True, inplace=True)\n",
    "X_test_cat_ordinal_df_encoded.reset_index(drop=True, inplace=True)"
   ]
  },
  {
   "cell_type": "code",
   "execution_count": 447,
   "id": "bfa32e03-c9e4-44d1-9d1d-442a6c2ef7dd",
   "metadata": {
    "tags": []
   },
   "outputs": [],
   "source": [
    "# (13) Concatenate the transformed numerical and categorical DataFrames:\n",
    "#num, cat ord, cat nom, client\n",
    "#X_train_num_df\n",
    "#X_test_num_df\n",
    "\n",
    "# concat\n",
    "X_train_concat_df = pd.concat([X_train_num_df['customer'],X_train_num_transformed_df, X_train_cat_nominal_df_encoded, X_train_cat_ordinal_df_encoded], axis=1)\n",
    "X_test_concat_df = pd.concat([X_test_num_df['customer'],X_test_num_transformed_df, X_test_cat_nominal_df_encoded, X_test_cat_ordinal_df_encoded], axis=1)"
   ]
  },
  {
   "cell_type": "code",
   "execution_count": 448,
   "id": "4fe11331-a20a-49c9-a3d4-e8964a13984b",
   "metadata": {
    "tags": []
   },
   "outputs": [],
   "source": [
    "X_train_concat_df.set_index(\"customer\", inplace=True)\n",
    "X_test_concat_df.set_index(\"customer\", inplace=True)"
   ]
  },
  {
   "cell_type": "code",
   "execution_count": 449,
   "id": "d3e1bc46-d501-49bc-867b-1522841c53ae",
   "metadata": {
    "tags": []
   },
   "outputs": [
    {
     "name": "stdout",
     "output_type": "stream",
     "text": [
      "(6390, 224)\n",
      "(1598, 224)\n"
     ]
    }
   ],
   "source": [
    "print(X_train_concat_df.shape) #7307\n",
    "print(X_test_concat_df.shape) #1827"
   ]
  },
  {
   "cell_type": "markdown",
   "id": "bf706d5d-52ec-4d6e-a5ea-78be3ef5e3f1",
   "metadata": {},
   "source": [
    "#### MinMaxScaler"
   ]
  },
  {
   "cell_type": "code",
   "execution_count": 349,
   "id": "3b28f595-290f-4070-9fa9-bceecb09c331",
   "metadata": {},
   "outputs": [],
   "source": [
    "# 14. Apply MinMaxScaler to the concatenated DataFrame:\n",
    "#- Train the MinMaxScaler on the concatenated DataFrame using the `.fit()` method.\n",
    "#   - Transform the concatenated DataFrame using the `.transform()` method."
   ]
  },
  {
   "cell_type": "code",
   "execution_count": 450,
   "id": "6213c9fa-d77f-4df2-89fb-e96530eb5134",
   "metadata": {
    "tags": []
   },
   "outputs": [],
   "source": [
    "#create scalers' directory\n",
    "\n",
    "import os\n",
    "\n",
    "path = \"scalers/\"\n",
    "# Check whether the specified path exists or not\n",
    "isExist = os.path.exists(path)\n",
    "if not isExist:\n",
    "    # Create a new directory because it does not exist\n",
    "    os.makedirs(path)\n",
    "    print(\"The new directory is created!\")"
   ]
  },
  {
   "cell_type": "code",
   "execution_count": 451,
   "id": "eaba7c67-f33c-4c55-9936-48366aaa2a49",
   "metadata": {
    "tags": []
   },
   "outputs": [
    {
     "data": {
      "text/html": [
       "<style>#sk-container-id-21 {color: black;}#sk-container-id-21 pre{padding: 0;}#sk-container-id-21 div.sk-toggleable {background-color: white;}#sk-container-id-21 label.sk-toggleable__label {cursor: pointer;display: block;width: 100%;margin-bottom: 0;padding: 0.3em;box-sizing: border-box;text-align: center;}#sk-container-id-21 label.sk-toggleable__label-arrow:before {content: \"▸\";float: left;margin-right: 0.25em;color: #696969;}#sk-container-id-21 label.sk-toggleable__label-arrow:hover:before {color: black;}#sk-container-id-21 div.sk-estimator:hover label.sk-toggleable__label-arrow:before {color: black;}#sk-container-id-21 div.sk-toggleable__content {max-height: 0;max-width: 0;overflow: hidden;text-align: left;background-color: #f0f8ff;}#sk-container-id-21 div.sk-toggleable__content pre {margin: 0.2em;color: black;border-radius: 0.25em;background-color: #f0f8ff;}#sk-container-id-21 input.sk-toggleable__control:checked~div.sk-toggleable__content {max-height: 200px;max-width: 100%;overflow: auto;}#sk-container-id-21 input.sk-toggleable__control:checked~label.sk-toggleable__label-arrow:before {content: \"▾\";}#sk-container-id-21 div.sk-estimator input.sk-toggleable__control:checked~label.sk-toggleable__label {background-color: #d4ebff;}#sk-container-id-21 div.sk-label input.sk-toggleable__control:checked~label.sk-toggleable__label {background-color: #d4ebff;}#sk-container-id-21 input.sk-hidden--visually {border: 0;clip: rect(1px 1px 1px 1px);clip: rect(1px, 1px, 1px, 1px);height: 1px;margin: -1px;overflow: hidden;padding: 0;position: absolute;width: 1px;}#sk-container-id-21 div.sk-estimator {font-family: monospace;background-color: #f0f8ff;border: 1px dotted black;border-radius: 0.25em;box-sizing: border-box;margin-bottom: 0.5em;}#sk-container-id-21 div.sk-estimator:hover {background-color: #d4ebff;}#sk-container-id-21 div.sk-parallel-item::after {content: \"\";width: 100%;border-bottom: 1px solid gray;flex-grow: 1;}#sk-container-id-21 div.sk-label:hover label.sk-toggleable__label {background-color: #d4ebff;}#sk-container-id-21 div.sk-serial::before {content: \"\";position: absolute;border-left: 1px solid gray;box-sizing: border-box;top: 0;bottom: 0;left: 50%;z-index: 0;}#sk-container-id-21 div.sk-serial {display: flex;flex-direction: column;align-items: center;background-color: white;padding-right: 0.2em;padding-left: 0.2em;position: relative;}#sk-container-id-21 div.sk-item {position: relative;z-index: 1;}#sk-container-id-21 div.sk-parallel {display: flex;align-items: stretch;justify-content: center;background-color: white;position: relative;}#sk-container-id-21 div.sk-item::before, #sk-container-id-21 div.sk-parallel-item::before {content: \"\";position: absolute;border-left: 1px solid gray;box-sizing: border-box;top: 0;bottom: 0;left: 50%;z-index: -1;}#sk-container-id-21 div.sk-parallel-item {display: flex;flex-direction: column;z-index: 1;position: relative;background-color: white;}#sk-container-id-21 div.sk-parallel-item:first-child::after {align-self: flex-end;width: 50%;}#sk-container-id-21 div.sk-parallel-item:last-child::after {align-self: flex-start;width: 50%;}#sk-container-id-21 div.sk-parallel-item:only-child::after {width: 0;}#sk-container-id-21 div.sk-dashed-wrapped {border: 1px dashed gray;margin: 0 0.4em 0.5em 0.4em;box-sizing: border-box;padding-bottom: 0.4em;background-color: white;}#sk-container-id-21 div.sk-label label {font-family: monospace;font-weight: bold;display: inline-block;line-height: 1.2em;}#sk-container-id-21 div.sk-label-container {text-align: center;}#sk-container-id-21 div.sk-container {/* jupyter's `normalize.less` sets `[hidden] { display: none; }` but bootstrap.min.css set `[hidden] { display: none !important; }` so we also need the `!important` here to be able to override the default hidden behavior on the sphinx rendered scikit-learn.org. See: https://github.com/scikit-learn/scikit-learn/issues/21755 */display: inline-block !important;position: relative;}#sk-container-id-21 div.sk-text-repr-fallback {display: none;}</style><div id=\"sk-container-id-21\" class=\"sk-top-container\"><div class=\"sk-text-repr-fallback\"><pre>MinMaxScaler()</pre><b>In a Jupyter environment, please rerun this cell to show the HTML representation or trust the notebook. <br />On GitHub, the HTML representation is unable to render, please try loading this page with nbviewer.org.</b></div><div class=\"sk-container\" hidden><div class=\"sk-item\"><div class=\"sk-estimator sk-toggleable\"><input class=\"sk-toggleable__control sk-hidden--visually\" id=\"sk-estimator-id-21\" type=\"checkbox\" checked><label for=\"sk-estimator-id-21\" class=\"sk-toggleable__label sk-toggleable__label-arrow\">MinMaxScaler</label><div class=\"sk-toggleable__content\"><pre>MinMaxScaler()</pre></div></div></div></div></div>"
      ],
      "text/plain": [
       "MinMaxScaler()"
      ]
     },
     "execution_count": 451,
     "metadata": {},
     "output_type": "execute_result"
    }
   ],
   "source": [
    "from sklearn.preprocessing import MinMaxScaler # Sets for each colum the minimum = 0 and the maximum = 1\n",
    "\n",
    "# initiate scaler\n",
    "scaler = MinMaxScaler()\n",
    "\n",
    "# fit method to train scaler:  Determine the min and the max of each column in the TRAIN set\n",
    "scaler.fit(X_train_concat_df)"
   ]
  },
  {
   "cell_type": "code",
   "execution_count": 452,
   "id": "a774db2b-d9d2-46e4-996b-6e10b4a500ef",
   "metadata": {},
   "outputs": [],
   "source": [
    "# 15. Save MinMaxScaler using pickle:\n",
    "#   - Create a new directory (if it doesn't exist) to store the MinMaxScaler.\n",
    "#   - Use the `pickle.dump()` function to save the MinMaxScaler to a .pkl file.\n",
    "\n",
    "# save scaler for later use\n",
    "path = \"./scalers/\"\n",
    "scaler_file_name = \"min_max_scaler_lab.pkl\"\n",
    "\n",
    "with open(path + scaler_file_name, \"wb\") as file:\n",
    "    pickle.dump(scaler, file)"
   ]
  },
  {
   "cell_type": "code",
   "execution_count": 453,
   "id": "22a99e81-a751-4d7e-b3e5-15447a9b50e1",
   "metadata": {
    "tags": []
   },
   "outputs": [
    {
     "name": "stdout",
     "output_type": "stream",
     "text": [
      "(6390, 224)\n",
      "(1598, 224)\n"
     ]
    }
   ],
   "source": [
    "# transform (scale) dataframes\n",
    "X_train_scaled = scaler.transform(X_train_concat_df) # .transform() applies the transformation x_normalized will be np.array\n",
    "X_test_scaled  = scaler.transform(X_test_concat_df) # .transform() applies the transformation x_normalized will be np.array\n",
    "\n",
    "# We create new Pandas DataFrames out of the Numpy arrays.\n",
    "X_train_scaled_df = pd.DataFrame(X_train_scaled, columns=X_train_concat_df.columns)\n",
    "X_test_scaled_df  = pd.DataFrame(X_test_scaled,  columns=X_train_concat_df.columns)\n",
    "\n",
    "print(X_train_scaled_df.shape)\n",
    "print(X_test_scaled_df.shape)"
   ]
  },
  {
   "cell_type": "markdown",
   "id": "39db2414-5a10-4aee-8c35-223dce96a2d9",
   "metadata": {
    "tags": []
   },
   "source": [
    "### Linear Regression (finally)"
   ]
  },
  {
   "cell_type": "markdown",
   "id": "ca4e9aee-4bb9-45fc-8642-5cb0fce822a5",
   "metadata": {
    "tags": []
   },
   "source": [
    "#### fit model --- post"
   ]
  },
  {
   "cell_type": "code",
   "execution_count": 454,
   "id": "cd5eb7a6-d225-4da5-bff1-cace6208635d",
   "metadata": {},
   "outputs": [],
   "source": [
    "# 16. Apply linear regression to the transformed DataFrame:\n",
    "#   - Use the linear regression model from sklearn.\n",
    "#   - Train the model on the transformed DataFrame using the `.fit()` method.\n",
    "\n",
    "#import linear regression from sklearn\n",
    "from sklearn.linear_model import LinearRegression"
   ]
  },
  {
   "cell_type": "code",
   "execution_count": 455,
   "id": "4eeb004e-8a8d-4e5e-b28a-0fa3f9ebe22e",
   "metadata": {
    "tags": []
   },
   "outputs": [
    {
     "data": {
      "text/html": [
       "<style>#sk-container-id-22 {color: black;}#sk-container-id-22 pre{padding: 0;}#sk-container-id-22 div.sk-toggleable {background-color: white;}#sk-container-id-22 label.sk-toggleable__label {cursor: pointer;display: block;width: 100%;margin-bottom: 0;padding: 0.3em;box-sizing: border-box;text-align: center;}#sk-container-id-22 label.sk-toggleable__label-arrow:before {content: \"▸\";float: left;margin-right: 0.25em;color: #696969;}#sk-container-id-22 label.sk-toggleable__label-arrow:hover:before {color: black;}#sk-container-id-22 div.sk-estimator:hover label.sk-toggleable__label-arrow:before {color: black;}#sk-container-id-22 div.sk-toggleable__content {max-height: 0;max-width: 0;overflow: hidden;text-align: left;background-color: #f0f8ff;}#sk-container-id-22 div.sk-toggleable__content pre {margin: 0.2em;color: black;border-radius: 0.25em;background-color: #f0f8ff;}#sk-container-id-22 input.sk-toggleable__control:checked~div.sk-toggleable__content {max-height: 200px;max-width: 100%;overflow: auto;}#sk-container-id-22 input.sk-toggleable__control:checked~label.sk-toggleable__label-arrow:before {content: \"▾\";}#sk-container-id-22 div.sk-estimator input.sk-toggleable__control:checked~label.sk-toggleable__label {background-color: #d4ebff;}#sk-container-id-22 div.sk-label input.sk-toggleable__control:checked~label.sk-toggleable__label {background-color: #d4ebff;}#sk-container-id-22 input.sk-hidden--visually {border: 0;clip: rect(1px 1px 1px 1px);clip: rect(1px, 1px, 1px, 1px);height: 1px;margin: -1px;overflow: hidden;padding: 0;position: absolute;width: 1px;}#sk-container-id-22 div.sk-estimator {font-family: monospace;background-color: #f0f8ff;border: 1px dotted black;border-radius: 0.25em;box-sizing: border-box;margin-bottom: 0.5em;}#sk-container-id-22 div.sk-estimator:hover {background-color: #d4ebff;}#sk-container-id-22 div.sk-parallel-item::after {content: \"\";width: 100%;border-bottom: 1px solid gray;flex-grow: 1;}#sk-container-id-22 div.sk-label:hover label.sk-toggleable__label {background-color: #d4ebff;}#sk-container-id-22 div.sk-serial::before {content: \"\";position: absolute;border-left: 1px solid gray;box-sizing: border-box;top: 0;bottom: 0;left: 50%;z-index: 0;}#sk-container-id-22 div.sk-serial {display: flex;flex-direction: column;align-items: center;background-color: white;padding-right: 0.2em;padding-left: 0.2em;position: relative;}#sk-container-id-22 div.sk-item {position: relative;z-index: 1;}#sk-container-id-22 div.sk-parallel {display: flex;align-items: stretch;justify-content: center;background-color: white;position: relative;}#sk-container-id-22 div.sk-item::before, #sk-container-id-22 div.sk-parallel-item::before {content: \"\";position: absolute;border-left: 1px solid gray;box-sizing: border-box;top: 0;bottom: 0;left: 50%;z-index: -1;}#sk-container-id-22 div.sk-parallel-item {display: flex;flex-direction: column;z-index: 1;position: relative;background-color: white;}#sk-container-id-22 div.sk-parallel-item:first-child::after {align-self: flex-end;width: 50%;}#sk-container-id-22 div.sk-parallel-item:last-child::after {align-self: flex-start;width: 50%;}#sk-container-id-22 div.sk-parallel-item:only-child::after {width: 0;}#sk-container-id-22 div.sk-dashed-wrapped {border: 1px dashed gray;margin: 0 0.4em 0.5em 0.4em;box-sizing: border-box;padding-bottom: 0.4em;background-color: white;}#sk-container-id-22 div.sk-label label {font-family: monospace;font-weight: bold;display: inline-block;line-height: 1.2em;}#sk-container-id-22 div.sk-label-container {text-align: center;}#sk-container-id-22 div.sk-container {/* jupyter's `normalize.less` sets `[hidden] { display: none; }` but bootstrap.min.css set `[hidden] { display: none !important; }` so we also need the `!important` here to be able to override the default hidden behavior on the sphinx rendered scikit-learn.org. See: https://github.com/scikit-learn/scikit-learn/issues/21755 */display: inline-block !important;position: relative;}#sk-container-id-22 div.sk-text-repr-fallback {display: none;}</style><div id=\"sk-container-id-22\" class=\"sk-top-container\"><div class=\"sk-text-repr-fallback\"><pre>LinearRegression()</pre><b>In a Jupyter environment, please rerun this cell to show the HTML representation or trust the notebook. <br />On GitHub, the HTML representation is unable to render, please try loading this page with nbviewer.org.</b></div><div class=\"sk-container\" hidden><div class=\"sk-item\"><div class=\"sk-estimator sk-toggleable\"><input class=\"sk-toggleable__control sk-hidden--visually\" id=\"sk-estimator-id-22\" type=\"checkbox\" checked><label for=\"sk-estimator-id-22\" class=\"sk-toggleable__label sk-toggleable__label-arrow\">LinearRegression</label><div class=\"sk-toggleable__content\"><pre>LinearRegression()</pre></div></div></div></div></div>"
      ],
      "text/plain": [
       "LinearRegression()"
      ]
     },
     "execution_count": 455,
     "metadata": {},
     "output_type": "execute_result"
    }
   ],
   "source": [
    "# create blank regression model and train it using the fit model\n",
    "linear_model = LinearRegression()\n",
    "linear_model.fit(X_train_scaled_df, y_train)"
   ]
  },
  {
   "cell_type": "code",
   "execution_count": 458,
   "id": "ba4c9dcc-d403-4cf0-90bf-c865449f3820",
   "metadata": {
    "tags": []
   },
   "outputs": [],
   "source": [
    "#17. Save the linear regression model using pickle:\n",
    "#   - Create a new directory (if it doesn't exist) to store the linear regression model.\n",
    "#   - Use the `pickle.dump()` function to save the linear regression model to a .pkl file.\n",
    "\n",
    "path = \"./\"\n",
    "model_file_name = \"linear_model_lab.pkl\"\n",
    "\n",
    "with open(path + model_file_name, \"wb\") as file:\n",
    "    pickle.dump(linear_model, file)\n",
    "    "
   ]
  },
  {
   "cell_type": "code",
   "execution_count": null,
   "id": "c6ce4ecc-2396-4c4f-bef5-761d3ba2d380",
   "metadata": {
    "tags": []
   },
   "outputs": [],
   "source": [
    "print(linear_model.intercept_) # \n",
    "print(linear_model.coef_) # \n"
   ]
  },
  {
   "cell_type": "code",
   "execution_count": null,
   "id": "3d034ebb-b2ed-4910-b9c8-bd1e60a7eb69",
   "metadata": {
    "tags": []
   },
   "outputs": [],
   "source": [
    "#18. Perform model validation:\n",
    "#   - Compute the following metrics for the train and test sets: R2, MSE, RMSE, MAE."
   ]
  },
  {
   "cell_type": "code",
   "execution_count": 460,
   "id": "d5cc89d2-56a3-4f90-ab74-d8e12abcd919",
   "metadata": {
    "tags": []
   },
   "outputs": [],
   "source": [
    "#use model to predict y_train and y_test\n",
    "y_train_pred = linear_model.predict(X_train_scaled_df)\n",
    "y_test_pred  = linear_model.predict(X_test_scaled_df)"
   ]
  },
  {
   "cell_type": "code",
   "execution_count": 461,
   "id": "94e8f72e-79a2-433f-87f3-8a6f379b4d70",
   "metadata": {
    "tags": []
   },
   "outputs": [
    {
     "data": {
      "text/plain": [
       "(1598,)"
      ]
     },
     "execution_count": 461,
     "metadata": {},
     "output_type": "execute_result"
    }
   ],
   "source": [
    "y_test_pred.shape"
   ]
  },
  {
   "cell_type": "code",
   "execution_count": 462,
   "id": "05066b02-e7a9-45ac-9875-69c140028afe",
   "metadata": {
    "tags": []
   },
   "outputs": [
    {
     "data": {
      "text/html": [
       "<div>\n",
       "<style scoped>\n",
       "    .dataframe tbody tr th:only-of-type {\n",
       "        vertical-align: middle;\n",
       "    }\n",
       "\n",
       "    .dataframe tbody tr th {\n",
       "        vertical-align: top;\n",
       "    }\n",
       "\n",
       "    .dataframe thead th {\n",
       "        text-align: right;\n",
       "    }\n",
       "</style>\n",
       "<table border=\"1\" class=\"dataframe\">\n",
       "  <thead>\n",
       "    <tr style=\"text-align: right;\">\n",
       "      <th></th>\n",
       "      <th>Set</th>\n",
       "      <th>Real</th>\n",
       "      <th>Predicted</th>\n",
       "    </tr>\n",
       "  </thead>\n",
       "  <tbody>\n",
       "    <tr>\n",
       "      <th>0</th>\n",
       "      <td>Train</td>\n",
       "      <td>314.528138</td>\n",
       "      <td>327.683103</td>\n",
       "    </tr>\n",
       "    <tr>\n",
       "      <th>1</th>\n",
       "      <td>Train</td>\n",
       "      <td>157.440069</td>\n",
       "      <td>131.777011</td>\n",
       "    </tr>\n",
       "    <tr>\n",
       "      <th>2</th>\n",
       "      <td>Train</td>\n",
       "      <td>319.294289</td>\n",
       "      <td>415.064808</td>\n",
       "    </tr>\n",
       "    <tr>\n",
       "      <th>3</th>\n",
       "      <td>Train</td>\n",
       "      <td>445.265108</td>\n",
       "      <td>504.840111</td>\n",
       "    </tr>\n",
       "    <tr>\n",
       "      <th>4</th>\n",
       "      <td>Train</td>\n",
       "      <td>597.600000</td>\n",
       "      <td>588.205990</td>\n",
       "    </tr>\n",
       "  </tbody>\n",
       "</table>\n",
       "</div>"
      ],
      "text/plain": [
       "     Set        Real   Predicted\n",
       "0  Train  314.528138  327.683103\n",
       "1  Train  157.440069  131.777011\n",
       "2  Train  319.294289  415.064808\n",
       "3  Train  445.265108  504.840111\n",
       "4  Train  597.600000  588.205990"
      ]
     },
     "execution_count": 462,
     "metadata": {},
     "output_type": "execute_result"
    }
   ],
   "source": [
    "#create results dataframe\n",
    "results = {\"Set\": [\"Train\"]*X_train_scaled_df.shape[0] + [\"Test\"]*X_test_scaled_df.shape[0], \n",
    "           \"Real\": list(y_train) + list(y_test),\n",
    "           \"Predicted\": list(y_train_pred) + list(y_test_pred)}\n",
    "\n",
    "results_df = pd.DataFrame(results)\n",
    "results_df.head()"
   ]
  },
  {
   "cell_type": "code",
   "execution_count": 463,
   "id": "9c65dcc3-a817-49af-a465-aca88fabf2df",
   "metadata": {
    "tags": []
   },
   "outputs": [
    {
     "data": {
      "text/plain": [
       "(7988, 3)"
      ]
     },
     "execution_count": 463,
     "metadata": {},
     "output_type": "execute_result"
    }
   ],
   "source": [
    "results_df.shape"
   ]
  },
  {
   "cell_type": "code",
   "execution_count": 464,
   "id": "21393f4f-c6b9-4ee4-b4ee-9cdc068f20bd",
   "metadata": {
    "tags": []
   },
   "outputs": [
    {
     "data": {
      "text/html": [
       "<div>\n",
       "<style scoped>\n",
       "    .dataframe tbody tr th:only-of-type {\n",
       "        vertical-align: middle;\n",
       "    }\n",
       "\n",
       "    .dataframe tbody tr th {\n",
       "        vertical-align: top;\n",
       "    }\n",
       "\n",
       "    .dataframe thead th {\n",
       "        text-align: right;\n",
       "    }\n",
       "</style>\n",
       "<table border=\"1\" class=\"dataframe\">\n",
       "  <thead>\n",
       "    <tr style=\"text-align: right;\">\n",
       "      <th></th>\n",
       "      <th>Set</th>\n",
       "      <th>Real</th>\n",
       "      <th>Predicted</th>\n",
       "      <th>Errors</th>\n",
       "    </tr>\n",
       "  </thead>\n",
       "  <tbody>\n",
       "    <tr>\n",
       "      <th>0</th>\n",
       "      <td>Train</td>\n",
       "      <td>314.528138</td>\n",
       "      <td>327.683103</td>\n",
       "      <td>-13.154965</td>\n",
       "    </tr>\n",
       "    <tr>\n",
       "      <th>1</th>\n",
       "      <td>Train</td>\n",
       "      <td>157.440069</td>\n",
       "      <td>131.777011</td>\n",
       "      <td>25.663058</td>\n",
       "    </tr>\n",
       "    <tr>\n",
       "      <th>2</th>\n",
       "      <td>Train</td>\n",
       "      <td>319.294289</td>\n",
       "      <td>415.064808</td>\n",
       "      <td>-95.770519</td>\n",
       "    </tr>\n",
       "    <tr>\n",
       "      <th>3</th>\n",
       "      <td>Train</td>\n",
       "      <td>445.265108</td>\n",
       "      <td>504.840111</td>\n",
       "      <td>-59.575003</td>\n",
       "    </tr>\n",
       "    <tr>\n",
       "      <th>4</th>\n",
       "      <td>Train</td>\n",
       "      <td>597.600000</td>\n",
       "      <td>588.205990</td>\n",
       "      <td>9.394010</td>\n",
       "    </tr>\n",
       "  </tbody>\n",
       "</table>\n",
       "</div>"
      ],
      "text/plain": [
       "     Set        Real   Predicted     Errors\n",
       "0  Train  314.528138  327.683103 -13.154965\n",
       "1  Train  157.440069  131.777011  25.663058\n",
       "2  Train  319.294289  415.064808 -95.770519\n",
       "3  Train  445.265108  504.840111 -59.575003\n",
       "4  Train  597.600000  588.205990   9.394010"
      ]
     },
     "execution_count": 464,
     "metadata": {},
     "output_type": "execute_result"
    }
   ],
   "source": [
    "results_df['Errors'] = results_df['Real'] - results_df['Predicted']\n",
    "results_df.head()"
   ]
  },
  {
   "cell_type": "code",
   "execution_count": 465,
   "id": "38775174-b269-47e6-b92b-0b82624e9464",
   "metadata": {
    "tags": []
   },
   "outputs": [
    {
     "data": {
      "image/png": "[encoded data removed]",
      "text/plain": [
       "<Figure size 1000x500 with 2 Axes>"
      ]
     },
     "metadata": {},
     "output_type": "display_data"
    }
   ],
   "source": [
    "import matplotlib.pyplot as plt\n",
    "import seaborn as sns\n",
    "%matplotlib inline\n",
    "\n",
    "fig, ax = plt.subplots(1,2, figsize=(10,5))\n",
    "\n",
    "sns.scatterplot(results_df, x=\"Real\", y=\"Predicted\", hue=\"Set\", ax=ax[0])\n",
    "sns.lineplot(results_df, x=\"Real\", y=\"Real\", color=\"black\", ax=ax[0])\n",
    "ax[0].set_title(\"Predicted vs real\")\n",
    "sns.histplot(results_df, x=\"Errors\", bins=50, hue=\"Set\", ax=ax[1])\n",
    "ax[1].set_title(\"Histogram of residuals\")\n",
    "\n",
    "plt.tight_layout()\n",
    "plt.show()"
   ]
  },
  {
   "cell_type": "markdown",
   "id": "602533c1-584e-48bf-90b3-c81dd18b682d",
   "metadata": {},
   "source": [
    "### Model Validation\n",
    "\n",
    "- Compute the following metrics for your Train and Test sets:\n",
    "  - [R2](https://scikit-learn.org/stable/modules/generated/sklearn.metrics.r2_score.html#sklearn.metrics.r2_score).\n",
    "  - [MSE](https://scikit-learn.org/stable/modules/generated/sklearn.metrics.mean_squared_error.html#sklearn-metrics-mean-squared-error).\n",
    "  - [RMSE](https://scikit-learn.org/stable/modules/generated/sklearn.metrics.mean_squared_error.html#sklearn-metrics-mean-squared-error)\n",
    "  - [MAE](https://scikit-learn.org/stable/modules/generated/sklearn.metrics.mean_absolute_error.html#sklearn-metrics-mean-absolute-error).\n",
    "\n",
    "- Create a Pandas DataFrame to summarize the error metrics for the Train and Test sets."
   ]
  },
  {
   "cell_type": "code",
   "execution_count": 368,
   "id": "694ac0b0-44c0-4997-9992-43f44169debe",
   "metadata": {
    "tags": []
   },
   "outputs": [],
   "source": [
    "#19. Create a Pandas DataFrame to summarize the error metrics for the train and test sets."
   ]
  },
  {
   "cell_type": "code",
   "execution_count": 466,
   "id": "308661e2-bdc2-497f-acc7-eef67fde329a",
   "metadata": {
    "tags": []
   },
   "outputs": [],
   "source": [
    "from sklearn.metrics import mean_absolute_error, mean_squared_error, r2_score\n",
    "\n",
    "def error_metrics_report(y_real_train: list, y_real_test: list, y_pred_train: list, y_pred_test: list) -> pd.DataFrame:\n",
    "    '''\n",
    "    Function: Calculate the various error metrics for a given set of train and test data prediction splits and organises them into a dataframe for easier visualisation\n",
    "    Inputs: y_real training data, y_real test data, y_prediction training data, y_prediction test data\n",
    "    Outputs: Dataframe with metrics column, and errors split by test and training data type. \n",
    "    '''\n",
    "    MAE_train = mean_absolute_error(y_real_train, y_pred_train)\n",
    "    MAE_test  = mean_absolute_error(y_real_test, y_pred_test)\n",
    "\n",
    "    # Mean squared error\n",
    "    MSE_train = mean_squared_error(y_real_train, y_pred_train)\n",
    "    MSE_test  = mean_squared_error(y_real_test, y_pred_test)\n",
    "\n",
    "    # Root mean squared error\n",
    "    RMSE_train = mean_squared_error(y_real_train, y_pred_train, squared=False)\n",
    "    RMSE_test  = mean_squared_error(y_real_test, y_pred_test, squared=False)\n",
    "\n",
    "    # R2\n",
    "    R2_train = r2_score(y_real_train, y_pred_train)\n",
    "    R2_test  = r2_score(y_real_test, y_pred_test)\n",
    "\n",
    "    results = {\"Metric\": ['MAE', 'MSE', 'RMSE', 'R2'], \n",
    "               \"Train\": [MAE_train, MSE_train, RMSE_train, R2_train],\n",
    "               \"Test\":  [MAE_test, MSE_test, RMSE_test, R2_test]}\n",
    "\n",
    "    results_df = pd.DataFrame(results).round(2)\n",
    "\n",
    "    return results_df"
   ]
  },
  {
   "cell_type": "code",
   "execution_count": 467,
   "id": "b365997c-38e4-4a7f-8018-dba1ed60f1ca",
   "metadata": {
    "tags": []
   },
   "outputs": [],
   "source": [
    "error_metrics_report_df = error_metrics_report(list(results_df[results_df[\"Set\"]==\"Train\"][\"Real\"]),\n",
    "                     list(results_df[results_df[\"Set\"]==\"Test\"][\"Real\"]),\n",
    "                     list(results_df[results_df[\"Set\"]==\"Train\"][\"Predicted\"]),\n",
    "                     list(results_df[results_df[\"Set\"]==\"Test\"][\"Predicted\"]))"
   ]
  },
  {
   "cell_type": "code",
   "execution_count": 468,
   "id": "f123aa2a-55d6-4e45-bb92-56686367a016",
   "metadata": {
    "tags": []
   },
   "outputs": [
    {
     "data": {
      "text/html": [
       "<div>\n",
       "<style scoped>\n",
       "    .dataframe tbody tr th:only-of-type {\n",
       "        vertical-align: middle;\n",
       "    }\n",
       "\n",
       "    .dataframe tbody tr th {\n",
       "        vertical-align: top;\n",
       "    }\n",
       "\n",
       "    .dataframe thead th {\n",
       "        text-align: right;\n",
       "    }\n",
       "</style>\n",
       "<table border=\"1\" class=\"dataframe\">\n",
       "  <thead>\n",
       "    <tr style=\"text-align: right;\">\n",
       "      <th></th>\n",
       "      <th>Metric</th>\n",
       "      <th>Train</th>\n",
       "      <th>Test</th>\n",
       "    </tr>\n",
       "  </thead>\n",
       "  <tbody>\n",
       "    <tr>\n",
       "      <th>0</th>\n",
       "      <td>MAE</td>\n",
       "      <td>84.27</td>\n",
       "      <td>86.89</td>\n",
       "    </tr>\n",
       "    <tr>\n",
       "      <th>1</th>\n",
       "      <td>MSE</td>\n",
       "      <td>13909.66</td>\n",
       "      <td>14195.54</td>\n",
       "    </tr>\n",
       "    <tr>\n",
       "      <th>2</th>\n",
       "      <td>RMSE</td>\n",
       "      <td>117.94</td>\n",
       "      <td>119.15</td>\n",
       "    </tr>\n",
       "    <tr>\n",
       "      <th>3</th>\n",
       "      <td>R2</td>\n",
       "      <td>0.74</td>\n",
       "      <td>0.75</td>\n",
       "    </tr>\n",
       "  </tbody>\n",
       "</table>\n",
       "</div>"
      ],
      "text/plain": [
       "  Metric     Train      Test\n",
       "0    MAE     84.27     86.89\n",
       "1    MSE  13909.66  14195.54\n",
       "2   RMSE    117.94    119.15\n",
       "3     R2      0.74      0.75"
      ]
     },
     "execution_count": 468,
     "metadata": {},
     "output_type": "execute_result"
    }
   ],
   "source": [
    "error_metrics_report_df"
   ]
  }
 ],
 "metadata": {
  "kernelspec": {
   "display_name": "Python 3 (ipykernel)",
   "language": "python",
   "name": "python3"
  },
  "language_info": {
   "codemirror_mode": {
    "name": "ipython",
    "version": 3
   },
   "file_extension": ".py",
   "mimetype": "text/x-python",
   "name": "python",
   "nbconvert_exporter": "python",
   "pygments_lexer": "ipython3",
   "version": "3.11.5"
  }
 },
 "nbformat": 4,
 "nbformat_minor": 5
}
